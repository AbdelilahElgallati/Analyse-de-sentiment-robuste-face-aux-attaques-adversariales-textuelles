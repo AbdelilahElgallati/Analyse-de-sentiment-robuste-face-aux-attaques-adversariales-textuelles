{
 "cells": [
  {
   "cell_type": "code",
   "execution_count": 4,
   "metadata": {},
   "outputs": [
    {
     "name": "stdout",
     "output_type": "stream",
     "text": [
      "Requirement already satisfied: textattack in c:\\users\\dell\\anaconda3\\lib\\site-packages (0.3.10)\n",
      "Requirement already satisfied: tensorflow in c:\\users\\dell\\anaconda3\\lib\\site-packages (2.19.0)\n",
      "Requirement already satisfied: pandas in c:\\users\\dell\\anaconda3\\lib\\site-packages (2.2.2)\n",
      "Requirement already satisfied: numpy in c:\\users\\dell\\anaconda3\\lib\\site-packages (1.26.4)\n",
      "Requirement already satisfied: scikit-learn in c:\\users\\dell\\anaconda3\\lib\\site-packages (1.5.1)\n",
      "Requirement already satisfied: matplotlib in c:\\users\\dell\\anaconda3\\lib\\site-packages (3.9.2)\n",
      "Requirement already satisfied: seaborn in c:\\users\\dell\\anaconda3\\lib\\site-packages (0.13.2)\n",
      "Requirement already satisfied: bert-score>=0.3.5 in c:\\users\\dell\\anaconda3\\lib\\site-packages (from textattack) (0.3.13)\n",
      "Requirement already satisfied: editdistance in c:\\users\\dell\\anaconda3\\lib\\site-packages (from textattack) (0.8.1)\n",
      "Requirement already satisfied: flair in c:\\users\\dell\\anaconda3\\lib\\site-packages (from textattack) (0.15.1)\n",
      "Requirement already satisfied: filelock in c:\\users\\dell\\anaconda3\\lib\\site-packages (from textattack) (3.13.1)\n",
      "Requirement already satisfied: language-tool-python in c:\\users\\dell\\anaconda3\\lib\\site-packages (from textattack) (2.9.3)\n",
      "Requirement already satisfied: lemminflect in c:\\users\\dell\\anaconda3\\lib\\site-packages (from textattack) (0.2.3)\n",
      "Requirement already satisfied: lru-dict in c:\\users\\dell\\anaconda3\\lib\\site-packages (from textattack) (1.3.0)\n",
      "Requirement already satisfied: datasets>=2.4.0 in c:\\users\\dell\\anaconda3\\lib\\site-packages (from textattack) (3.6.0)\n",
      "Requirement already satisfied: nltk in c:\\users\\dell\\anaconda3\\lib\\site-packages (from textattack) (3.9.1)\n",
      "Requirement already satisfied: scipy>=1.4.1 in c:\\users\\dell\\anaconda3\\lib\\site-packages (from textattack) (1.13.1)\n",
      "Requirement already satisfied: torch!=1.8,>=1.7.0 in c:\\users\\dell\\anaconda3\\lib\\site-packages (from textattack) (2.5.1)\n",
      "Requirement already satisfied: transformers>=4.30.0 in c:\\users\\dell\\anaconda3\\lib\\site-packages (from textattack) (4.52.3)\n",
      "Requirement already satisfied: terminaltables in c:\\users\\dell\\anaconda3\\lib\\site-packages (from textattack) (3.1.10)\n",
      "Requirement already satisfied: tqdm in c:\\users\\dell\\anaconda3\\lib\\site-packages (from textattack) (4.66.5)\n",
      "Requirement already satisfied: word2number in c:\\users\\dell\\anaconda3\\lib\\site-packages (from textattack) (1.1)\n",
      "Requirement already satisfied: num2words in c:\\users\\dell\\anaconda3\\lib\\site-packages (from textattack) (0.5.14)\n",
      "Requirement already satisfied: more-itertools in c:\\users\\dell\\anaconda3\\lib\\site-packages (from textattack) (10.3.0)\n",
      "Requirement already satisfied: pinyin>=0.4.0 in c:\\users\\dell\\anaconda3\\lib\\site-packages (from textattack) (0.4.0)\n",
      "Requirement already satisfied: jieba in c:\\users\\dell\\anaconda3\\lib\\site-packages (from textattack) (0.42.1)\n",
      "Requirement already satisfied: OpenHowNet in c:\\users\\dell\\anaconda3\\lib\\site-packages (from textattack) (2.0)\n",
      "Requirement already satisfied: absl-py>=1.0.0 in c:\\users\\dell\\anaconda3\\lib\\site-packages (from tensorflow) (2.1.0)\n",
      "Requirement already satisfied: astunparse>=1.6.0 in c:\\users\\dell\\anaconda3\\lib\\site-packages (from tensorflow) (1.6.3)\n",
      "Requirement already satisfied: flatbuffers>=24.3.25 in c:\\users\\dell\\anaconda3\\lib\\site-packages (from tensorflow) (25.2.10)\n",
      "Requirement already satisfied: gast!=0.5.0,!=0.5.1,!=0.5.2,>=0.2.1 in c:\\users\\dell\\anaconda3\\lib\\site-packages (from tensorflow) (0.6.0)\n",
      "Requirement already satisfied: google-pasta>=0.1.1 in c:\\users\\dell\\anaconda3\\lib\\site-packages (from tensorflow) (0.2.0)\n",
      "Requirement already satisfied: libclang>=13.0.0 in c:\\users\\dell\\anaconda3\\lib\\site-packages (from tensorflow) (18.1.1)\n",
      "Requirement already satisfied: opt-einsum>=2.3.2 in c:\\users\\dell\\anaconda3\\lib\\site-packages (from tensorflow) (3.4.0)\n",
      "Requirement already satisfied: packaging in c:\\users\\dell\\anaconda3\\lib\\site-packages (from tensorflow) (24.1)\n",
      "Requirement already satisfied: protobuf!=4.21.0,!=4.21.1,!=4.21.2,!=4.21.3,!=4.21.4,!=4.21.5,<6.0.0dev,>=3.20.3 in c:\\users\\dell\\anaconda3\\lib\\site-packages (from tensorflow) (4.25.3)\n",
      "Requirement already satisfied: requests<3,>=2.21.0 in c:\\users\\dell\\anaconda3\\lib\\site-packages (from tensorflow) (2.32.3)\n",
      "Requirement already satisfied: setuptools in c:\\users\\dell\\anaconda3\\lib\\site-packages (from tensorflow) (75.1.0)\n",
      "Requirement already satisfied: six>=1.12.0 in c:\\users\\dell\\anaconda3\\lib\\site-packages (from tensorflow) (1.16.0)\n",
      "Requirement already satisfied: termcolor>=1.1.0 in c:\\users\\dell\\anaconda3\\lib\\site-packages (from tensorflow) (2.5.0)\n",
      "Requirement already satisfied: typing-extensions>=3.6.6 in c:\\users\\dell\\anaconda3\\lib\\site-packages (from tensorflow) (4.11.0)\n",
      "Requirement already satisfied: wrapt>=1.11.0 in c:\\users\\dell\\anaconda3\\lib\\site-packages (from tensorflow) (1.14.1)\n",
      "Requirement already satisfied: grpcio<2.0,>=1.24.3 in c:\\users\\dell\\anaconda3\\lib\\site-packages (from tensorflow) (1.71.0)\n",
      "Requirement already satisfied: tensorboard~=2.19.0 in c:\\users\\dell\\anaconda3\\lib\\site-packages (from tensorflow) (2.19.0)\n",
      "Requirement already satisfied: keras>=3.5.0 in c:\\users\\dell\\anaconda3\\lib\\site-packages (from tensorflow) (3.9.0)\n",
      "Requirement already satisfied: h5py>=3.11.0 in c:\\users\\dell\\anaconda3\\lib\\site-packages (from tensorflow) (3.11.0)\n",
      "Requirement already satisfied: ml-dtypes<1.0.0,>=0.5.1 in c:\\users\\dell\\anaconda3\\lib\\site-packages (from tensorflow) (0.5.1)\n",
      "Requirement already satisfied: python-dateutil>=2.8.2 in c:\\users\\dell\\anaconda3\\lib\\site-packages (from pandas) (2.9.0.post0)\n",
      "Requirement already satisfied: pytz>=2020.1 in c:\\users\\dell\\anaconda3\\lib\\site-packages (from pandas) (2024.1)\n",
      "Requirement already satisfied: tzdata>=2022.7 in c:\\users\\dell\\anaconda3\\lib\\site-packages (from pandas) (2023.3)\n",
      "Requirement already satisfied: joblib>=1.2.0 in c:\\users\\dell\\anaconda3\\lib\\site-packages (from scikit-learn) (1.4.2)\n",
      "Requirement already satisfied: threadpoolctl>=3.1.0 in c:\\users\\dell\\anaconda3\\lib\\site-packages (from scikit-learn) (3.5.0)\n",
      "Requirement already satisfied: contourpy>=1.0.1 in c:\\users\\dell\\anaconda3\\lib\\site-packages (from matplotlib) (1.2.0)\n",
      "Requirement already satisfied: cycler>=0.10 in c:\\users\\dell\\anaconda3\\lib\\site-packages (from matplotlib) (0.11.0)\n",
      "Requirement already satisfied: fonttools>=4.22.0 in c:\\users\\dell\\anaconda3\\lib\\site-packages (from matplotlib) (4.51.0)\n",
      "Requirement already satisfied: kiwisolver>=1.3.1 in c:\\users\\dell\\anaconda3\\lib\\site-packages (from matplotlib) (1.4.4)\n",
      "Requirement already satisfied: pillow>=8 in c:\\users\\dell\\anaconda3\\lib\\site-packages (from matplotlib) (10.4.0)\n",
      "Requirement already satisfied: pyparsing>=2.3.1 in c:\\users\\dell\\anaconda3\\lib\\site-packages (from matplotlib) (3.1.2)\n",
      "Requirement already satisfied: wheel<1.0,>=0.23.0 in c:\\users\\dell\\anaconda3\\lib\\site-packages (from astunparse>=1.6.0->tensorflow) (0.44.0)\n",
      "Requirement already satisfied: pyarrow>=15.0.0 in c:\\users\\dell\\anaconda3\\lib\\site-packages (from datasets>=2.4.0->textattack) (16.1.0)\n",
      "Requirement already satisfied: dill<0.3.9,>=0.3.0 in c:\\users\\dell\\anaconda3\\lib\\site-packages (from datasets>=2.4.0->textattack) (0.3.8)\n",
      "Requirement already satisfied: xxhash in c:\\users\\dell\\anaconda3\\lib\\site-packages (from datasets>=2.4.0->textattack) (3.5.0)\n",
      "Requirement already satisfied: multiprocess<0.70.17 in c:\\users\\dell\\anaconda3\\lib\\site-packages (from datasets>=2.4.0->textattack) (0.70.16)\n",
      "Requirement already satisfied: fsspec<=2025.3.0,>=2023.1.0 in c:\\users\\dell\\anaconda3\\lib\\site-packages (from fsspec[http]<=2025.3.0,>=2023.1.0->datasets>=2.4.0->textattack) (2024.6.1)\n",
      "Requirement already satisfied: huggingface-hub>=0.24.0 in c:\\users\\dell\\anaconda3\\lib\\site-packages (from datasets>=2.4.0->textattack) (0.31.2)\n",
      "Requirement already satisfied: pyyaml>=5.1 in c:\\users\\dell\\anaconda3\\lib\\site-packages (from datasets>=2.4.0->textattack) (6.0.1)\n",
      "Requirement already satisfied: rich in c:\\users\\dell\\anaconda3\\lib\\site-packages (from keras>=3.5.0->tensorflow) (13.7.1)\n",
      "Requirement already satisfied: namex in c:\\users\\dell\\anaconda3\\lib\\site-packages (from keras>=3.5.0->tensorflow) (0.0.8)\n",
      "Requirement already satisfied: optree in c:\\users\\dell\\anaconda3\\lib\\site-packages (from keras>=3.5.0->tensorflow) (0.14.1)\n",
      "Requirement already satisfied: charset-normalizer<4,>=2 in c:\\users\\dell\\anaconda3\\lib\\site-packages (from requests<3,>=2.21.0->tensorflow) (3.3.2)\n",
      "Requirement already satisfied: idna<4,>=2.5 in c:\\users\\dell\\anaconda3\\lib\\site-packages (from requests<3,>=2.21.0->tensorflow) (3.7)\n",
      "Requirement already satisfied: urllib3<3,>=1.21.1 in c:\\users\\dell\\anaconda3\\lib\\site-packages (from requests<3,>=2.21.0->tensorflow) (2.2.3)\n",
      "Requirement already satisfied: certifi>=2017.4.17 in c:\\users\\dell\\anaconda3\\lib\\site-packages (from requests<3,>=2.21.0->tensorflow) (2025.4.26)\n",
      "Requirement already satisfied: markdown>=2.6.8 in c:\\users\\dell\\anaconda3\\lib\\site-packages (from tensorboard~=2.19.0->tensorflow) (3.4.1)\n",
      "Requirement already satisfied: tensorboard-data-server<0.8.0,>=0.7.0 in c:\\users\\dell\\anaconda3\\lib\\site-packages (from tensorboard~=2.19.0->tensorflow) (0.7.2)\n",
      "Requirement already satisfied: werkzeug>=1.0.1 in c:\\users\\dell\\anaconda3\\lib\\site-packages (from tensorboard~=2.19.0->tensorflow) (3.0.3)\n",
      "Requirement already satisfied: sympy==1.13.1 in c:\\users\\dell\\anaconda3\\lib\\site-packages (from torch!=1.8,>=1.7.0->textattack) (1.13.1)\n",
      "Requirement already satisfied: networkx in c:\\users\\dell\\anaconda3\\lib\\site-packages (from torch!=1.8,>=1.7.0->textattack) (3.3)\n",
      "Requirement already satisfied: jinja2 in c:\\users\\dell\\anaconda3\\lib\\site-packages (from torch!=1.8,>=1.7.0->textattack) (3.1.4)\n",
      "Requirement already satisfied: mpmath<1.4,>=1.1.0 in c:\\users\\dell\\anaconda3\\lib\\site-packages (from sympy==1.13.1->torch!=1.8,>=1.7.0->textattack) (1.3.0)\n",
      "Requirement already satisfied: colorama in c:\\users\\dell\\anaconda3\\lib\\site-packages (from tqdm->textattack) (0.4.6)\n",
      "Requirement already satisfied: regex!=2019.12.17 in c:\\users\\dell\\anaconda3\\lib\\site-packages (from transformers>=4.30.0->textattack) (2024.9.11)\n",
      "Requirement already satisfied: tokenizers<0.22,>=0.21 in c:\\users\\dell\\anaconda3\\lib\\site-packages (from transformers>=4.30.0->textattack) (0.21.1)\n",
      "Requirement already satisfied: safetensors>=0.4.3 in c:\\users\\dell\\anaconda3\\lib\\site-packages (from transformers>=4.30.0->textattack) (0.5.3)\n",
      "Requirement already satisfied: boto3>=1.20.27 in c:\\users\\dell\\anaconda3\\lib\\site-packages (from flair->textattack) (1.38.26)\n",
      "Requirement already satisfied: conllu<5.0.0,>=4.0 in c:\\users\\dell\\anaconda3\\lib\\site-packages (from flair->textattack) (4.5.3)\n",
      "Requirement already satisfied: deprecated>=1.2.13 in c:\\users\\dell\\anaconda3\\lib\\site-packages (from flair->textattack) (1.2.18)\n",
      "Requirement already satisfied: ftfy>=6.1.0 in c:\\users\\dell\\anaconda3\\lib\\site-packages (from flair->textattack) (6.3.1)\n",
      "Requirement already satisfied: gdown>=4.4.0 in c:\\users\\dell\\anaconda3\\lib\\site-packages (from flair->textattack) (5.2.0)\n",
      "Requirement already satisfied: langdetect>=1.0.9 in c:\\users\\dell\\anaconda3\\lib\\site-packages (from flair->textattack) (1.0.9)\n",
      "Requirement already satisfied: lxml>=4.8.0 in c:\\users\\dell\\anaconda3\\lib\\site-packages (from flair->textattack) (5.2.1)\n",
      "Requirement already satisfied: mpld3>=0.3 in c:\\users\\dell\\anaconda3\\lib\\site-packages (from flair->textattack) (0.5.10)\n",
      "Requirement already satisfied: pptree>=3.1 in c:\\users\\dell\\anaconda3\\lib\\site-packages (from flair->textattack) (3.1)\n",
      "Requirement already satisfied: pytorch-revgrad>=0.2.0 in c:\\users\\dell\\anaconda3\\lib\\site-packages (from flair->textattack) (0.2.0)\n",
      "Requirement already satisfied: segtok>=1.5.11 in c:\\users\\dell\\anaconda3\\lib\\site-packages (from flair->textattack) (1.5.11)\n",
      "Requirement already satisfied: sqlitedict>=2.0.0 in c:\\users\\dell\\anaconda3\\lib\\site-packages (from flair->textattack) (2.1.0)\n",
      "Requirement already satisfied: tabulate>=0.8.10 in c:\\users\\dell\\anaconda3\\lib\\site-packages (from flair->textattack) (0.9.0)\n",
      "Requirement already satisfied: transformer-smaller-training-vocab>=0.2.3 in c:\\users\\dell\\anaconda3\\lib\\site-packages (from flair->textattack) (0.4.1)\n",
      "Requirement already satisfied: wikipedia-api>=0.5.7 in c:\\users\\dell\\anaconda3\\lib\\site-packages (from flair->textattack) (0.8.1)\n",
      "Requirement already satisfied: bioc<3.0.0,>=2.0.0 in c:\\users\\dell\\anaconda3\\lib\\site-packages (from flair->textattack) (2.1)\n",
      "Requirement already satisfied: psutil in c:\\users\\dell\\anaconda3\\lib\\site-packages (from language-tool-python->textattack) (5.9.0)\n",
      "Requirement already satisfied: toml in c:\\users\\dell\\anaconda3\\lib\\site-packages (from language-tool-python->textattack) (0.10.2)\n",
      "Requirement already satisfied: click in c:\\users\\dell\\anaconda3\\lib\\site-packages (from nltk->textattack) (8.1.7)\n",
      "Requirement already satisfied: docopt>=0.6.2 in c:\\users\\dell\\anaconda3\\lib\\site-packages (from num2words->textattack) (0.6.2)\n",
      "Requirement already satisfied: anytree in c:\\users\\dell\\anaconda3\\lib\\site-packages (from OpenHowNet->textattack) (2.13.0)\n",
      "Requirement already satisfied: jsonlines>=1.2.0 in c:\\users\\dell\\anaconda3\\lib\\site-packages (from bioc<3.0.0,>=2.0.0->flair->textattack) (4.0.0)\n",
      "Requirement already satisfied: intervaltree in c:\\users\\dell\\anaconda3\\lib\\site-packages (from bioc<3.0.0,>=2.0.0->flair->textattack) (3.1.0)\n",
      "Requirement already satisfied: botocore<1.39.0,>=1.38.26 in c:\\users\\dell\\anaconda3\\lib\\site-packages (from boto3>=1.20.27->flair->textattack) (1.38.26)\n",
      "Requirement already satisfied: jmespath<2.0.0,>=0.7.1 in c:\\users\\dell\\anaconda3\\lib\\site-packages (from boto3>=1.20.27->flair->textattack) (1.0.1)\n",
      "Requirement already satisfied: s3transfer<0.14.0,>=0.13.0 in c:\\users\\dell\\anaconda3\\lib\\site-packages (from boto3>=1.20.27->flair->textattack) (0.13.0)\n",
      "Requirement already satisfied: aiohttp!=4.0.0a0,!=4.0.0a1 in c:\\users\\dell\\anaconda3\\lib\\site-packages (from fsspec[http]<=2025.3.0,>=2023.1.0->datasets>=2.4.0->textattack) (3.10.5)\n",
      "Requirement already satisfied: wcwidth in c:\\users\\dell\\anaconda3\\lib\\site-packages (from ftfy>=6.1.0->flair->textattack) (0.2.5)\n",
      "Requirement already satisfied: beautifulsoup4 in c:\\users\\dell\\anaconda3\\lib\\site-packages (from gdown>=4.4.0->flair->textattack) (4.12.3)\n",
      "Requirement already satisfied: sentencepiece!=0.1.92,>=0.1.91 in c:\\users\\dell\\anaconda3\\lib\\site-packages (from transformers[sentencepiece]<5.0.0,>=4.25.0->flair->textattack) (0.2.0)\n",
      "Requirement already satisfied: MarkupSafe>=2.1.1 in c:\\users\\dell\\anaconda3\\lib\\site-packages (from werkzeug>=1.0.1->tensorboard~=2.19.0->tensorflow) (2.1.3)\n",
      "Requirement already satisfied: markdown-it-py>=2.2.0 in c:\\users\\dell\\anaconda3\\lib\\site-packages (from rich->keras>=3.5.0->tensorflow) (2.2.0)\n",
      "Requirement already satisfied: pygments<3.0.0,>=2.13.0 in c:\\users\\dell\\anaconda3\\lib\\site-packages (from rich->keras>=3.5.0->tensorflow) (2.15.1)\n",
      "Requirement already satisfied: aiohappyeyeballs>=2.3.0 in c:\\users\\dell\\anaconda3\\lib\\site-packages (from aiohttp!=4.0.0a0,!=4.0.0a1->fsspec[http]<=2025.3.0,>=2023.1.0->datasets>=2.4.0->textattack) (2.4.0)\n",
      "Requirement already satisfied: aiosignal>=1.1.2 in c:\\users\\dell\\anaconda3\\lib\\site-packages (from aiohttp!=4.0.0a0,!=4.0.0a1->fsspec[http]<=2025.3.0,>=2023.1.0->datasets>=2.4.0->textattack) (1.2.0)\n",
      "Requirement already satisfied: attrs>=17.3.0 in c:\\users\\dell\\anaconda3\\lib\\site-packages (from aiohttp!=4.0.0a0,!=4.0.0a1->fsspec[http]<=2025.3.0,>=2023.1.0->datasets>=2.4.0->textattack) (23.1.0)\n",
      "Requirement already satisfied: frozenlist>=1.1.1 in c:\\users\\dell\\anaconda3\\lib\\site-packages (from aiohttp!=4.0.0a0,!=4.0.0a1->fsspec[http]<=2025.3.0,>=2023.1.0->datasets>=2.4.0->textattack) (1.4.0)\n",
      "Requirement already satisfied: multidict<7.0,>=4.5 in c:\\users\\dell\\anaconda3\\lib\\site-packages (from aiohttp!=4.0.0a0,!=4.0.0a1->fsspec[http]<=2025.3.0,>=2023.1.0->datasets>=2.4.0->textattack) (6.0.4)\n",
      "Requirement already satisfied: yarl<2.0,>=1.0 in c:\\users\\dell\\anaconda3\\lib\\site-packages (from aiohttp!=4.0.0a0,!=4.0.0a1->fsspec[http]<=2025.3.0,>=2023.1.0->datasets>=2.4.0->textattack) (1.11.0)\n",
      "Requirement already satisfied: mdurl~=0.1 in c:\\users\\dell\\anaconda3\\lib\\site-packages (from markdown-it-py>=2.2.0->rich->keras>=3.5.0->tensorflow) (0.1.0)\n",
      "Requirement already satisfied: accelerate>=0.26.0 in c:\\users\\dell\\anaconda3\\lib\\site-packages (from transformers[sentencepiece,torch]<5.0,>=4.1->transformer-smaller-training-vocab>=0.2.3->flair->textattack) (1.7.0)\n",
      "Requirement already satisfied: soupsieve>1.2 in c:\\users\\dell\\anaconda3\\lib\\site-packages (from beautifulsoup4->gdown>=4.4.0->flair->textattack) (2.5)\n",
      "Requirement already satisfied: sortedcontainers<3.0,>=2.0 in c:\\users\\dell\\anaconda3\\lib\\site-packages (from intervaltree->bioc<3.0.0,>=2.0.0->flair->textattack) (2.4.0)\n",
      "Requirement already satisfied: PySocks!=1.5.7,>=1.5.6 in c:\\users\\dell\\anaconda3\\lib\\site-packages (from requests[socks]->gdown>=4.4.0->flair->textattack) (1.7.1)\n",
      "Note: you may need to restart the kernel to use updated packages.\n"
     ]
    }
   ],
   "source": [
    "pip install textattack tensorflow pandas numpy scikit-learn matplotlib seaborn"
   ]
  },
  {
   "cell_type": "markdown",
   "metadata": {},
   "source": [
    "## 1. Importation des bibliothèques"
   ]
  },
  {
   "cell_type": "code",
   "execution_count": 7,
   "metadata": {},
   "outputs": [],
   "source": [
    "import pandas as pd\n",
    "import numpy as np\n",
    "import re\n",
    "import os\n",
    "from tensorflow.keras.models import load_model\n",
    "from tensorflow.keras.preprocessing.text import Tokenizer\n",
    "from tensorflow.keras.preprocessing.sequence import pad_sequences\n",
    "from sklearn.metrics import accuracy_score, f1_score, confusion_matrix\n",
    "import matplotlib.pyplot as plt\n",
    "import seaborn as sns\n",
    "from textattack import Attacker, AttackArgs\n",
    "from textattack.datasets import Dataset\n",
    "from textattack.models.wrappers import ModelWrapper\n",
    "from textattack.attack_recipes import TextFoolerJin2019, DeepWordBugGao2018\n",
    "import textattack\n",
    "import tensorflow"
   ]
  },
  {
   "cell_type": "markdown",
   "metadata": {},
   "source": [
    "## 2. Préparation des données"
   ]
  },
  {
   "cell_type": "code",
   "execution_count": 8,
   "metadata": {},
   "outputs": [],
   "source": [
    "# Charger le jeu de données\n",
    "try:\n",
    "    df = pd.read_csv(\"../data/training.1600000.processed.noemoticon.csv\", encoding=\"latin-1\")\n",
    "    df = df.iloc[:, [0, 5]]  # Garder sentiment (colonne 0) et texte (colonne 5)\n",
    "    df.columns = ['sentiment', 'text']\n",
    "    df['sentiment'] = df['sentiment'].map({0: 'negatif', 4: 'positif'})\n",
    "    df.drop_duplicates(inplace=True)\n",
    "except FileNotFoundError:\n",
    "    print(\"Erreur : Le fichier '../data/training.1600000.processed.noemoticon.csv' n'existe pas.\")\n",
    "    print(\"Veuillez vérifier le chemin ou placez le fichier dans le dossier 'data'.\")\n",
    "    exit()"
   ]
  },
  {
   "cell_type": "code",
   "execution_count": 9,
   "metadata": {},
   "outputs": [],
   "source": [
    "# Fonction de nettoyage des textes\n",
    "def clean_text(text):\n",
    "    text = str(text)  # S'assurer que l'entrée est une chaîne\n",
    "    text = re.sub(r'http\\S+|@\\w+|#\\w+', '', text)  # Supprimer URLs, mentions, hashtags\n",
    "    text = re.sub(r'[^\\w\\s]', '', text)  # Supprimer caractères spéciaux\n",
    "    text = text.strip().lower()\n",
    "    # Supprimer les textes trop courts (moins de 3 mots)\n",
    "    if len(text.split()) < 3:\n",
    "        return ''\n",
    "    return text"
   ]
  },
  {
   "cell_type": "code",
   "execution_count": 10,
   "metadata": {},
   "outputs": [],
   "source": [
    "# Appliquer le nettoyage\n",
    "df['text'] = df['text'].apply(clean_text)\n",
    "df = df[df['text'] != '']  # Supprimer les textes vides ou trop courts\n",
    "df = df.dropna(subset=['text', 'sentiment'])  # Supprimer les lignes avec NaN"
   ]
  },
  {
   "cell_type": "code",
   "execution_count": 11,
   "metadata": {},
   "outputs": [],
   "source": [
    "# Mapper les étiquettes pour TextAttack (0 = négatif, 1 = positif)\n",
    "df['label'] = df['sentiment'].map({'negatif': 0, 'positif': 1})"
   ]
  },
  {
   "cell_type": "code",
   "execution_count": 12,
   "metadata": {},
   "outputs": [],
   "source": [
    "# Sélectionner un sous-ensemble pour les attaques (500 exemples)\n",
    "test_subset = df.sample(n=500, random_state=42)"
   ]
  },
  {
   "cell_type": "code",
   "execution_count": null,
   "metadata": {},
   "outputs": [
    {
     "name": "stdout",
     "output_type": "stream",
     "text": [
      "\n",
      "Répartition des classes dans le sous-ensemble :\n",
      "label\n",
      "1    0.554\n",
      "0    0.446\n",
      "Name: proportion, dtype: float64\n"
     ]
    }
   ],
   "source": [
    "# Vérifier l'équilibre des classes\n",
    "print(\"\\nRépartition des classes dans le sous-ensemble :\")\n",
    "print(test_subset['label'].value_counts(normalize=True))"
   ]
  },
  {
   "cell_type": "code",
   "execution_count": 14,
   "metadata": {},
   "outputs": [],
   "source": [
    "# Format pour TextAttack\n",
    "test_data = [(row['text'], row['label']) for _, row in test_subset.iterrows() if row['text']]\n",
    "attack_dataset = Dataset(test_data)"
   ]
  },
  {
   "cell_type": "code",
   "execution_count": 15,
   "metadata": {},
   "outputs": [
    {
     "name": "stdout",
     "output_type": "stream",
     "text": [
      "Sous-ensemble sauvegardé dans 'outputs/test_subset_for_attacks.csv'\n"
     ]
    }
   ],
   "source": [
    "# Sauvegarder le sous-ensemble\n",
    "os.makedirs(\"outputs\", exist_ok=True)\n",
    "test_subset.to_csv(\"outputs/test_subset_for_attacks.csv\", index=False)\n",
    "print(\"Sous-ensemble sauvegardé dans 'outputs/test_subset_for_attacks.csv'\")"
   ]
  },
  {
   "cell_type": "markdown",
   "metadata": {},
   "source": [
    "## 3. Charger le modèle LSTM et préparer le wrapper"
   ]
  },
  {
   "cell_type": "code",
   "execution_count": 16,
   "metadata": {},
   "outputs": [
    {
     "name": "stdout",
     "output_type": "stream",
     "text": [
      "Modèle chargé avec succès.\n"
     ]
    }
   ],
   "source": [
    "# Charger le modèle\n",
    "try:\n",
    "    model = load_model('../models/best_model.keras')\n",
    "    print(\"Modèle chargé avec succès.\")\n",
    "except FileNotFoundError:\n",
    "    print(\"Erreur : Le fichier 'best_model.keras' n'existe pas.\")\n",
    "    print(\"Veuillez vérifier le chemin ou entraîner un modèle dans l'étape 1.\")\n",
    "    exit()"
   ]
  },
  {
   "cell_type": "code",
   "execution_count": 17,
   "metadata": {},
   "outputs": [],
   "source": [
    "# Initialiser le tokenizer\n",
    "tokenizer = Tokenizer(num_words=10000)  # Ajustez num_words selon l'étape 1\n",
    "tokenizer.fit_on_texts(df['text'])"
   ]
  },
  {
   "cell_type": "code",
   "execution_count": 1,
   "metadata": {},
   "outputs": [
    {
     "ename": "NameError",
     "evalue": "name 'ModelWrapper' is not defined",
     "output_type": "error",
     "traceback": [
      "\u001b[1;31m---------------------------------------------------------------------------\u001b[0m",
      "\u001b[1;31mNameError\u001b[0m                                 Traceback (most recent call last)",
      "Cell \u001b[1;32mIn[1], line 2\u001b[0m\n\u001b[0;32m      1\u001b[0m \u001b[38;5;66;03m# Wrapper pour intégrer le modèle avec TextAttack\u001b[39;00m\n\u001b[1;32m----> 2\u001b[0m \u001b[38;5;28;01mclass\u001b[39;00m\u001b[38;5;250m \u001b[39m\u001b[38;5;21;01mKerasModelWrapper\u001b[39;00m(\u001b[43mModelWrapper\u001b[49m):\n\u001b[0;32m      3\u001b[0m     \u001b[38;5;28;01mdef\u001b[39;00m\u001b[38;5;250m \u001b[39m\u001b[38;5;21m__init__\u001b[39m(\u001b[38;5;28mself\u001b[39m, model, tokenizer, maxlen\u001b[38;5;241m=\u001b[39m\u001b[38;5;241m100\u001b[39m):\n\u001b[0;32m      4\u001b[0m         \u001b[38;5;28mself\u001b[39m\u001b[38;5;241m.\u001b[39mmodel \u001b[38;5;241m=\u001b[39m model\n",
      "\u001b[1;31mNameError\u001b[0m: name 'ModelWrapper' is not defined"
     ]
    }
   ],
   "source": [
    "# Wrapper pour intégrer le modèle avec TextAttack\n",
    "class KerasModelWrapper(ModelWrapper):\n",
    "    def __init__(self, model, tokenizer, maxlen=100):\n",
    "        self.model = model\n",
    "        self.tokenizer = tokenizer\n",
    "        self.maxlen = maxlen\n",
    "\n",
    "    def __call__(self, text_input_list):\n",
    "        try:\n",
    "            sequences = self.tokenizer.texts_to_sequences(text_input_list)\n",
    "            padded = pad_sequences(sequences, maxlen=self.maxlen, padding='post', truncating='post')\n",
    "            return self.model.predict(padded, verbose=0)\n",
    "        except Exception as e:\n",
    "            print(f\"Erreur dans la prédiction : {e}\")\n",
    "            return np.zeros((len(text_input_list), 1))  # Valeur par défaut"
   ]
  },
  {
   "cell_type": "code",
   "execution_count": 19,
   "metadata": {},
   "outputs": [],
   "source": [
    "# Initialiser le wrapper\n",
    "model_wrapper = KerasModelWrapper(model, tokenizer, maxlen=100)  # Ajustez maxlen"
   ]
  },
  {
   "cell_type": "markdown",
   "metadata": {},
   "source": [
    "## 4. Configuration et application des attaques"
   ]
  },
  {
   "cell_type": "code",
   "execution_count": 20,
   "metadata": {},
   "outputs": [
    {
     "name": "stderr",
     "output_type": "stream",
     "text": [
      "textattack: Unknown if model of class <class 'keras.src.models.sequential.Sequential'> compatible with goal function <class 'textattack.goal_functions.classification.untargeted_classification.UntargetedClassification'>.\n",
      "textattack: Unknown if model of class <class 'keras.src.models.sequential.Sequential'> compatible with goal function <class 'textattack.goal_functions.classification.untargeted_classification.UntargetedClassification'>.\n"
     ]
    }
   ],
   "source": [
    "# Liste des attaques (BERTAttack exclu pour éviter les problèmes sur CPU)\n",
    "attack_recipes = [\n",
    "    TextFoolerJin2019.build(model_wrapper),\n",
    "    DeepWordBugGao2018.build(model_wrapper)\n",
    "]"
   ]
  },
  {
   "cell_type": "code",
   "execution_count": 21,
   "metadata": {},
   "outputs": [],
   "source": [
    "# Configurer les paramètres des attaques\n",
    "attack_args = AttackArgs(\n",
    "    num_examples=50,  # Réduit pour tests rapides\n",
    "    log_to_csv=\"outputs/attack_results.csv\",\n",
    "    checkpoint_dir=\"outputs/checkpoints\",\n",
    "    checkpoint_interval=10,\n",
    "    disable_stdout=False\n",
    ")"
   ]
  },
  {
   "cell_type": "code",
   "execution_count": 22,
   "metadata": {},
   "outputs": [
    {
     "name": "stderr",
     "output_type": "stream",
     "text": [
      "textattack: Logging to CSV at path outputs/attack_results.csv\n"
     ]
    },
    {
     "name": "stdout",
     "output_type": "stream",
     "text": [
      "\n",
      "Lancement de l'attaque : Attack\n",
      "Attack(\n",
      "  (search_method): GreedyWordSwapWIR(\n",
      "    (wir_method):  delete\n",
      "  )\n",
      "  (goal_function):  UntargetedClassification\n",
      "  (transformation):  WordSwapEmbedding(\n",
      "    (max_candidates):  50\n",
      "    (embedding):  WordEmbedding\n",
      "  )\n",
      "  (constraints): \n",
      "    (0): WordEmbeddingDistance(\n",
      "        (embedding):  WordEmbedding\n",
      "        (min_cos_sim):  0.5\n",
      "        (cased):  False\n",
      "        (include_unknown_words):  True\n",
      "        (compare_against_original):  True\n",
      "      )\n",
      "    (1): PartOfSpeech(\n",
      "        (tagger_type):  nltk\n",
      "        (tagset):  universal\n",
      "        (allow_verb_noun_swap):  True\n",
      "        (compare_against_original):  True\n",
      "      )\n",
      "    (2): UniversalSentenceEncoder(\n",
      "        (metric):  angular\n",
      "        (threshold):  0.840845057\n",
      "        (window_size):  15\n",
      "        (skip_text_shorter_than_window):  True\n",
      "        (compare_against_original):  False\n",
      "      )\n",
      "    (3): RepeatModification\n",
      "    (4): StopwordModification\n",
      "    (5): InputColumnModification(\n",
      "        (matching_column_labels):  ['premise', 'hypothesis']\n",
      "        (columns_to_ignore):  {'premise'}\n",
      "      )\n",
      "  (is_black_box):  True\n",
      ") \n",
      "\n"
     ]
    },
    {
     "name": "stderr",
     "output_type": "stream",
     "text": [
      "[Succeeded / Failed / Skipped / Total] 0 / 0 / 1 / 1:   2%|▏         | 1/50 [00:01<01:04,  1.31s/it]"
     ]
    },
    {
     "name": "stdout",
     "output_type": "stream",
     "text": [
      "--------------------------------------------- Result 1 ---------------------------------------------\n",
      "[[0 (57%)]] --> [[[SKIPPED]]]\n",
      "\n",
      "with one hand in your pocket any accidental quotpath to groundquot wont include your heart\n",
      "\n",
      "\n",
      "WARNING:tensorflow:From c:\\Users\\dell\\anaconda3\\Lib\\site-packages\\tf_keras\\src\\losses.py:2976: The name tf.losses.sparse_softmax_cross_entropy is deprecated. Please use tf.compat.v1.losses.sparse_softmax_cross_entropy instead.\n",
      "\n"
     ]
    },
    {
     "name": "stderr",
     "output_type": "stream",
     "text": [
      "From c:\\Users\\dell\\anaconda3\\Lib\\site-packages\\tf_keras\\src\\losses.py:2976: The name tf.losses.sparse_softmax_cross_entropy is deprecated. Please use tf.compat.v1.losses.sparse_softmax_cross_entropy instead.\n",
      "\n"
     ]
    },
    {
     "name": "stdout",
     "output_type": "stream",
     "text": [
      "WARNING:tensorflow:From c:\\Users\\dell\\anaconda3\\Lib\\site-packages\\tensorflow_hub\\resolver.py:120: The name tf.gfile.MakeDirs is deprecated. Please use tf.io.gfile.makedirs instead.\n",
      "\n"
     ]
    },
    {
     "name": "stderr",
     "output_type": "stream",
     "text": [
      "From c:\\Users\\dell\\anaconda3\\Lib\\site-packages\\tensorflow_hub\\resolver.py:120: The name tf.gfile.MakeDirs is deprecated. Please use tf.io.gfile.makedirs instead.\n",
      "\n"
     ]
    },
    {
     "name": "stdout",
     "output_type": "stream",
     "text": [
      "WARNING:tensorflow:From c:\\Users\\dell\\anaconda3\\Lib\\site-packages\\tensorflow_hub\\module_v2.py:126: The name tf.saved_model.load_v2 is deprecated. Please use tf.compat.v2.saved_model.load instead.\n",
      "\n"
     ]
    },
    {
     "name": "stderr",
     "output_type": "stream",
     "text": [
      "From c:\\Users\\dell\\anaconda3\\Lib\\site-packages\\tensorflow_hub\\module_v2.py:126: The name tf.saved_model.load_v2 is deprecated. Please use tf.compat.v2.saved_model.load instead.\n",
      "\n",
      "[Succeeded / Failed / Skipped / Total] 1 / 0 / 2 / 3:   6%|▌         | 3/50 [00:17<04:41,  6.00s/it]"
     ]
    },
    {
     "name": "stdout",
     "output_type": "stream",
     "text": [
      "--------------------------------------------- Result 2 ---------------------------------------------\n",
      "[[1 (53%)]] --> [[0 (54%)]]\n",
      "\n",
      "im in germany and its really funny here the wetter is sunny and its 10 oclock in the [[morning]]\n",
      "\n",
      "im in germany and its really funny here the wetter is sunny and its 10 oclock in the [[matin]]\n",
      "\n",
      "\n",
      "--------------------------------------------- Result 3 ---------------------------------------------\n",
      "[[1 (92%)]] --> [[[SKIPPED]]]\n",
      "\n",
      "least you have a realtivly big brain compared to my microscopic one\n",
      "\n",
      "\n"
     ]
    },
    {
     "name": "stderr",
     "output_type": "stream",
     "text": [
      "[Succeeded / Failed / Skipped / Total] 1 / 0 / 3 / 4:   8%|▊         | 4/50 [00:18<03:28,  4.52s/it]"
     ]
    },
    {
     "name": "stdout",
     "output_type": "stream",
     "text": [
      "--------------------------------------------- Result 4 ---------------------------------------------\n",
      "[[1 (91%)]] --> [[[SKIPPED]]]\n",
      "\n",
      "for value for money we would vote dairyland or world  in newquay  some places very expensive though\n",
      "\n",
      "\n"
     ]
    },
    {
     "name": "stderr",
     "output_type": "stream",
     "text": [
      "[Succeeded / Failed / Skipped / Total] 2 / 0 / 5 / 7:  14%|█▍        | 7/50 [00:18<01:54,  2.66s/it]"
     ]
    },
    {
     "name": "stdout",
     "output_type": "stream",
     "text": [
      "--------------------------------------------- Result 5 ---------------------------------------------\n",
      "[[0 (62%)]] --> [[1 (58%)]]\n",
      "\n",
      "i want to go on holiday to somewhere very [[hot]]\n",
      "\n",
      "i want to go on holiday to somewhere very [[warmth]]\n",
      "\n",
      "\n",
      "--------------------------------------------- Result 6 ---------------------------------------------\n",
      "[[1 (59%)]] --> [[[SKIPPED]]]\n",
      "\n",
      "i remember that sort of thing from travelling to the uk from ireland in the 70s80s not happy to see it back\n",
      "\n",
      "\n",
      "--------------------------------------------- Result 7 ---------------------------------------------\n",
      "[[0 (84%)]] --> [[[SKIPPED]]]\n",
      "\n",
      "havent even heard of it this side  quick blurb\n",
      "\n",
      "\n"
     ]
    },
    {
     "name": "stderr",
     "output_type": "stream",
     "text": [
      "[Succeeded / Failed / Skipped / Total] 3 / 0 / 5 / 8:  16%|█▌        | 8/50 [00:18<01:39,  2.37s/it]"
     ]
    },
    {
     "name": "stdout",
     "output_type": "stream",
     "text": [
      "--------------------------------------------- Result 8 ---------------------------------------------\n",
      "[[1 (80%)]] --> [[0 (83%)]]\n",
      "\n",
      "steppin my [[game]] up\n",
      "\n",
      "steppin my [[playing]] up\n",
      "\n",
      "\n"
     ]
    },
    {
     "name": "stderr",
     "output_type": "stream",
     "text": [
      "[Succeeded / Failed / Skipped / Total] 4 / 0 / 6 / 10:  20%|██        | 10/50 [00:19<01:17,  1.93s/it]textattack: Saving checkpoint under \"outputs/checkpoints\\1748641085892.ta.chkpt\" at 2025-05-30 22:38:05 after 10 attacks.\n"
     ]
    },
    {
     "name": "stdout",
     "output_type": "stream",
     "text": [
      "--------------------------------------------- Result 9 ---------------------------------------------\n",
      "[[1 (51%)]] --> [[0 (58%)]]\n",
      "\n",
      "no thank god havent been electrocuted yet either its my lucky day  hahaha yesterday kicked my [[arse]] it was just retarded\n",
      "\n",
      "no thank god havent been electrocuted yet either its my lucky day  hahaha yesterday kicked my [[ass]] it was just retarded\n",
      "\n",
      "\n",
      "--------------------------------------------- Result 10 ---------------------------------------------\n",
      "[[1 (58%)]] --> [[[SKIPPED]]]\n",
      "\n",
      "its true we couldnt hear parts over here\n",
      "\n",
      "\n",
      "\n",
      "\n",
      "=============================================================================================================================\n",
      "=============================================================================================================================\n",
      "\n"
     ]
    },
    {
     "name": "stderr",
     "output_type": "stream",
     "text": [
      "[Succeeded / Failed / Skipped / Total] 4 / 0 / 6 / 10:  22%|██▏       | 11/50 [00:19<01:08,  1.76s/it]"
     ]
    },
    {
     "name": "stdout",
     "output_type": "stream",
     "text": [
      "--------------------------------------------- Result 11 ---------------------------------------------\n"
     ]
    },
    {
     "name": "stderr",
     "output_type": "stream",
     "text": [
      "[Succeeded / Failed / Skipped / Total] 4 / 0 / 7 / 11:  22%|██▏       | 11/50 [00:19<01:08,  1.76s/it]"
     ]
    },
    {
     "name": "stdout",
     "output_type": "stream",
     "text": [
      "[[0 (56%)]] --> [[[SKIPPED]]]\n",
      "\n",
      "im taking applications for the dark side\n",
      "\n",
      "\n"
     ]
    },
    {
     "name": "stderr",
     "output_type": "stream",
     "text": [
      "[Succeeded / Failed / Skipped / Total] 5 / 0 / 7 / 12:  24%|██▍       | 12/50 [00:19<01:02,  1.65s/it]"
     ]
    },
    {
     "name": "stdout",
     "output_type": "stream",
     "text": [
      "--------------------------------------------- Result 12 ---------------------------------------------\n",
      "[[1 (69%)]] --> [[0 (64%)]]\n",
      "\n",
      "me too i came into work early so i wont feel guilty when i leave these suckers at [[noon]]\n",
      "\n",
      "me too i came into work early so i wont feel guilty when i leave these suckers at [[mondays]]\n",
      "\n",
      "\n"
     ]
    },
    {
     "name": "stderr",
     "output_type": "stream",
     "text": [
      "[Succeeded / Failed / Skipped / Total] 6 / 0 / 8 / 14:  28%|██▊       | 14/50 [00:20<00:51,  1.44s/it]"
     ]
    },
    {
     "name": "stdout",
     "output_type": "stream",
     "text": [
      "--------------------------------------------- Result 13 ---------------------------------------------\n",
      "[[1 (68%)]] --> [[0 (65%)]]\n",
      "\n",
      "[[go]] to opera its better than both\n",
      "\n",
      "[[spend]] to opera its better than both\n",
      "\n",
      "\n",
      "--------------------------------------------- Result 14 ---------------------------------------------\n",
      "[[0 (60%)]] --> [[[SKIPPED]]]\n",
      "\n",
      "but todays your birthday as far as i can remember hope its a wonderful one\n",
      "\n",
      "\n"
     ]
    },
    {
     "name": "stderr",
     "output_type": "stream",
     "text": [
      "[Succeeded / Failed / Skipped / Total] 7 / 0 / 8 / 15:  30%|███       | 15/50 [00:20<00:48,  1.39s/it]"
     ]
    },
    {
     "name": "stdout",
     "output_type": "stream",
     "text": [
      "--------------------------------------------- Result 15 ---------------------------------------------\n",
      "[[1 (95%)]] --> [[0 (88%)]]\n",
      "\n",
      "yipeeee kapitan sino mama loves me she [[paid]] for it [[hahaha]]\n",
      "\n",
      "yipeeee kapitan sino mama loves me she [[makes]] for it [[wasnt]]\n",
      "\n",
      "\n"
     ]
    },
    {
     "name": "stderr",
     "output_type": "stream",
     "text": [
      "[Succeeded / Failed / Skipped / Total] 8 / 0 / 9 / 17:  34%|███▍      | 17/50 [00:21<00:41,  1.26s/it]"
     ]
    },
    {
     "name": "stdout",
     "output_type": "stream",
     "text": [
      "--------------------------------------------- Result 16 ---------------------------------------------\n",
      "[[0 (91%)]] --> [[1 (50%)]]\n",
      "\n",
      "i [[cant]] find anything i have changed my interior designer like 479012652 times haha i hate this assignment\n",
      "\n",
      "i [[becuase]] find anything i have changed my interior designer like 479012652 times haha i hate this assignment\n",
      "\n",
      "\n",
      "--------------------------------------------- Result 17 ---------------------------------------------\n",
      "[[1 (63%)]] --> [[[SKIPPED]]]\n",
      "\n",
      "hangin out drinkin beer dont wanna go to work in the morning\n",
      "\n",
      "\n"
     ]
    },
    {
     "name": "stderr",
     "output_type": "stream",
     "text": [
      "[Succeeded / Failed / Skipped / Total] 8 / 0 / 10 / 18:  36%|███▌      | 18/50 [00:21<00:38,  1.20s/it]"
     ]
    },
    {
     "name": "stdout",
     "output_type": "stream",
     "text": [
      "--------------------------------------------- Result 18 ---------------------------------------------\n",
      "[[1 (57%)]] --> [[[SKIPPED]]]\n",
      "\n",
      "ive had a headache ever since i woke up this morning\n",
      "\n",
      "\n"
     ]
    },
    {
     "name": "stderr",
     "output_type": "stream",
     "text": [
      "[Succeeded / Failed / Skipped / Total] 9 / 0 / 11 / 20:  40%|████      | 20/50 [00:22<00:33,  1.11s/it]textattack: Saving checkpoint under \"outputs/checkpoints\\1748641088877.ta.chkpt\" at 2025-05-30 22:38:08 after 20 attacks.\n"
     ]
    },
    {
     "name": "stdout",
     "output_type": "stream",
     "text": [
      "--------------------------------------------- Result 19 ---------------------------------------------\n",
      "[[0 (58%)]] --> [[1 (57%)]]\n",
      "\n",
      "i  [[miss]] sleep  real bad but im completly not tired didnt sleep one bit last night\n",
      "\n",
      "i  [[signorina]] sleep  real bad but im completly not tired didnt sleep one bit last night\n",
      "\n",
      "\n",
      "--------------------------------------------- Result 20 ---------------------------------------------\n",
      "[[1 (52%)]] --> [[[SKIPPED]]]\n",
      "\n",
      "dang thats what i forgot from tjs yesterday\n",
      "\n",
      "\n",
      "\n",
      "\n",
      "=============================================================================================================================\n",
      "=============================================================================================================================\n",
      "\n"
     ]
    },
    {
     "name": "stderr",
     "output_type": "stream",
     "text": [
      "[Succeeded / Failed / Skipped / Total] 9 / 0 / 13 / 22:  44%|████▍     | 22/50 [00:22<00:28,  1.03s/it]"
     ]
    },
    {
     "name": "stdout",
     "output_type": "stream",
     "text": [
      "--------------------------------------------- Result 21 ---------------------------------------------\n",
      "[[1 (54%)]] --> [[[SKIPPED]]]\n",
      "\n",
      "stopped at the mcdonalds eastland for lunch then back on the road for another 3 hours\n",
      "\n",
      "\n",
      "--------------------------------------------- Result 22 ---------------------------------------------\n",
      "[[1 (90%)]] --> [[[SKIPPED]]]\n",
      "\n",
      "terminator salivation was a letdown\n",
      "\n",
      "\n"
     ]
    },
    {
     "name": "stderr",
     "output_type": "stream",
     "text": [
      "[Succeeded / Failed / Skipped / Total] 10 / 0 / 13 / 23:  46%|████▌     | 23/50 [00:23<00:27,  1.01s/it]"
     ]
    },
    {
     "name": "stdout",
     "output_type": "stream",
     "text": [
      "--------------------------------------------- Result 23 ---------------------------------------------\n",
      "[[0 (52%)]] --> [[1 (53%)]]\n",
      "\n",
      "omg im so mad i noticed the big dipper on nicks face a long [[time]] ago not [[fair]]\n",
      "\n",
      "omg im so mad i noticed the big dipper on nicks face a long [[stardate]] ago not [[egalitarian]]\n",
      "\n",
      "\n"
     ]
    },
    {
     "name": "stderr",
     "output_type": "stream",
     "text": [
      "[Succeeded / Failed / Skipped / Total] 11 / 0 / 13 / 24:  48%|████▊     | 24/50 [00:23<00:25,  1.02it/s]"
     ]
    },
    {
     "name": "stdout",
     "output_type": "stream",
     "text": [
      "--------------------------------------------- Result 24 ---------------------------------------------\n",
      "[[0 (77%)]] --> [[1 (51%)]]\n",
      "\n",
      "oh god after the news im being force fed a tory campaign [[video]]  trying not to yell at [[tv]]\n",
      "\n",
      "oh god after the news im being force fed a tory campaign [[cameraman]]  trying not to yell at [[tvs]]\n",
      "\n",
      "\n"
     ]
    },
    {
     "name": "stderr",
     "output_type": "stream",
     "text": [
      "[Succeeded / Failed / Skipped / Total] 12 / 0 / 13 / 25:  50%|█████     | 25/50 [00:23<00:23,  1.04it/s]"
     ]
    },
    {
     "name": "stdout",
     "output_type": "stream",
     "text": [
      "--------------------------------------------- Result 25 ---------------------------------------------\n",
      "[[1 (98%)]] --> [[0 (95%)]]\n",
      "\n",
      "[[good]] morning everyone\n",
      "\n",
      "[[alright]] morning everyone\n",
      "\n",
      "\n"
     ]
    },
    {
     "name": "stderr",
     "output_type": "stream",
     "text": [
      "[Succeeded / Failed / Skipped / Total] 13 / 0 / 14 / 27:  54%|█████▍    | 27/50 [00:24<00:20,  1.11it/s]"
     ]
    },
    {
     "name": "stdout",
     "output_type": "stream",
     "text": [
      "--------------------------------------------- Result 26 ---------------------------------------------\n",
      "[[1 (88%)]] --> [[0 (77%)]]\n",
      "\n",
      "agreedbut that would [[be]] 16 years\n",
      "\n",
      "agreedbut that would [[es]] 16 years\n",
      "\n",
      "\n",
      "--------------------------------------------- Result 27 ---------------------------------------------\n",
      "[[1 (69%)]] --> [[[SKIPPED]]]\n",
      "\n",
      "i want 10 more followers\n",
      "\n",
      "\n"
     ]
    },
    {
     "name": "stderr",
     "output_type": "stream",
     "text": [
      "[Succeeded / Failed / Skipped / Total] 13 / 0 / 16 / 29:  58%|█████▊    | 29/50 [00:24<00:17,  1.18it/s]"
     ]
    },
    {
     "name": "stdout",
     "output_type": "stream",
     "text": [
      "--------------------------------------------- Result 28 ---------------------------------------------\n",
      "[[1 (56%)]] --> [[[SKIPPED]]]\n",
      "\n",
      "stuffed now  just had a pint and steak in the redwell could have done with more but is driving\n",
      "\n",
      "\n",
      "--------------------------------------------- Result 29 ---------------------------------------------\n",
      "[[0 (68%)]] --> [[[SKIPPED]]]\n",
      "\n",
      "dude is going to require more sleep than this she says but thanks 4 the pic yall look adorable\n",
      "\n",
      "\n"
     ]
    },
    {
     "name": "stderr",
     "output_type": "stream",
     "text": [
      "[Succeeded / Failed / Skipped / Total] 13 / 0 / 17 / 30:  60%|██████    | 30/50 [00:24<00:16,  1.21it/s]textattack: Saving checkpoint under \"outputs/checkpoints\\1748641091387.ta.chkpt\" at 2025-05-30 22:38:11 after 30 attacks.\n"
     ]
    },
    {
     "name": "stdout",
     "output_type": "stream",
     "text": [
      "--------------------------------------------- Result 30 ---------------------------------------------\n",
      "[[1 (59%)]] --> [[[SKIPPED]]]\n",
      "\n",
      "opening night for r amp j but im home early and have to work tomorrow\n",
      "\n",
      "\n",
      "\n",
      "\n",
      "=============================================================================================================================\n",
      "=============================================================================================================================\n",
      "\n"
     ]
    },
    {
     "name": "stderr",
     "output_type": "stream",
     "text": [
      "[Succeeded / Failed / Skipped / Total] 13 / 0 / 18 / 31:  62%|██████▏   | 31/50 [00:24<00:15,  1.24it/s]"
     ]
    },
    {
     "name": "stdout",
     "output_type": "stream",
     "text": [
      "--------------------------------------------- Result 31 ---------------------------------------------\n",
      "[[1 (53%)]] --> [[[SKIPPED]]]\n",
      "\n",
      "cleaning my room this is gonna take hours  gab\n",
      "\n",
      "\n"
     ]
    },
    {
     "name": "stderr",
     "output_type": "stream",
     "text": [
      "[Succeeded / Failed / Skipped / Total] 13 / 0 / 19 / 32:  66%|██████▌   | 33/50 [00:25<00:12,  1.31it/s]"
     ]
    },
    {
     "name": "stdout",
     "output_type": "stream",
     "text": [
      "--------------------------------------------- Result 32 ---------------------------------------------\n",
      "[[0 (66%)]] --> [[[SKIPPED]]]\n",
      "\n",
      "lol makes me think of that old saying if the room is rockin dont come knockin just a small earthquake\n",
      "\n",
      "\n",
      "--------------------------------------------- Result 33 ---------------------------------------------\n",
      "[[1 (63%)]] --> [[[SKIPPED]]]\n",
      "\n",
      "mwahaha so you never gonna come and see me then\n",
      "\n",
      "\n"
     ]
    },
    {
     "name": "stderr",
     "output_type": "stream",
     "text": [
      "[Succeeded / Failed / Skipped / Total] 13 / 0 / 21 / 34:  68%|██████▊   | 34/50 [00:25<00:11,  1.35it/s]"
     ]
    },
    {
     "name": "stdout",
     "output_type": "stream",
     "text": [
      "--------------------------------------------- Result 34 ---------------------------------------------\n",
      "[[1 (65%)]] --> [[[SKIPPED]]]\n",
      "\n",
      "hugs im feeling your pain i have to work overtime all this week\n",
      "\n",
      "\n"
     ]
    },
    {
     "name": "stderr",
     "output_type": "stream",
     "text": [
      "[Succeeded / Failed / Skipped / Total] 13 / 0 / 22 / 35:  70%|███████   | 35/50 [00:25<00:10,  1.38it/s]"
     ]
    },
    {
     "name": "stdout",
     "output_type": "stream",
     "text": [
      "--------------------------------------------- Result 35 ---------------------------------------------\n",
      "[[0 (74%)]] --> [[[SKIPPED]]]\n",
      "\n",
      "haha yeah that rusko remix is jokes\n",
      "\n",
      "\n"
     ]
    },
    {
     "name": "stderr",
     "output_type": "stream",
     "text": [
      "[Succeeded / Failed / Skipped / Total] 13 / 0 / 23 / 36:  72%|███████▏  | 36/50 [00:25<00:09,  1.41it/s]"
     ]
    },
    {
     "name": "stdout",
     "output_type": "stream",
     "text": [
      "--------------------------------------------- Result 36 ---------------------------------------------\n",
      "[[0 (62%)]] --> [[[SKIPPED]]]\n",
      "\n",
      "loves you to girl\n",
      "\n",
      "\n"
     ]
    },
    {
     "name": "stderr",
     "output_type": "stream",
     "text": [
      "[Succeeded / Failed / Skipped / Total] 13 / 0 / 24 / 37:  74%|███████▍  | 37/50 [00:25<00:09,  1.44it/s]"
     ]
    },
    {
     "name": "stdout",
     "output_type": "stream",
     "text": [
      "--------------------------------------------- Result 37 ---------------------------------------------\n",
      "[[0 (93%)]] --> [[[SKIPPED]]]\n",
      "\n",
      "you girls should follow  shes got twitter now\n",
      "\n",
      "\n"
     ]
    },
    {
     "name": "stderr",
     "output_type": "stream",
     "text": [
      "[Succeeded / Failed / Skipped / Total] 13 / 0 / 25 / 38:  76%|███████▌  | 38/50 [00:25<00:08,  1.48it/s]"
     ]
    },
    {
     "name": "stdout",
     "output_type": "stream",
     "text": [
      "--------------------------------------------- Result 38 ---------------------------------------------\n",
      "[[0 (74%)]] --> [[[SKIPPED]]]\n",
      "\n",
      "tom i need to share this just got bttf n dvdi have never seen it is it a good moviestupid questio bye please awnser\n",
      "\n",
      "\n"
     ]
    },
    {
     "name": "stderr",
     "output_type": "stream",
     "text": [
      "[Succeeded / Failed / Skipped / Total] 14 / 0 / 25 / 39:  78%|███████▊  | 39/50 [00:26<00:07,  1.49it/s]"
     ]
    },
    {
     "name": "stdout",
     "output_type": "stream",
     "text": [
      "--------------------------------------------- Result 39 ---------------------------------------------\n",
      "[[1 (67%)]] --> [[0 (54%)]]\n",
      "\n",
      "is anyone capable of [[driving]] a manual car and wants to do me a favor  you will be compensated  no but really candy could be involved\n",
      "\n",
      "is anyone capable of [[conducting]] a manual car and wants to do me a favor  you will be compensated  no but really candy could be involved\n",
      "\n",
      "\n"
     ]
    },
    {
     "name": "stderr",
     "output_type": "stream",
     "text": [
      "[Succeeded / Failed / Skipped / Total] 15 / 0 / 25 / 40:  80%|████████  | 40/50 [00:26<00:06,  1.51it/s]textattack: Saving checkpoint under \"outputs/checkpoints\\1748641093106.ta.chkpt\" at 2025-05-30 22:38:13 after 40 attacks.\n"
     ]
    },
    {
     "name": "stdout",
     "output_type": "stream",
     "text": [
      "--------------------------------------------- Result 40 ---------------------------------------------\n",
      "[[1 (61%)]] --> [[0 (78%)]]\n",
      "\n",
      "mileeyyy your amazing  youu lokked lovely at music [[awards]]\n",
      "\n",
      "mileeyyy your amazing  youu lokked lovely at music [[premium]]\n",
      "\n",
      "\n",
      "\n",
      "\n",
      "=============================================================================================================================\n",
      "=============================================================================================================================\n",
      "\n"
     ]
    },
    {
     "name": "stderr",
     "output_type": "stream",
     "text": [
      "[Succeeded / Failed / Skipped / Total] 16 / 0 / 26 / 42:  84%|████████▍ | 42/50 [00:26<00:05,  1.56it/s]"
     ]
    },
    {
     "name": "stdout",
     "output_type": "stream",
     "text": [
      "--------------------------------------------- Result 41 ---------------------------------------------\n",
      "[[0 (57%)]] --> [[1 (86%)]]\n",
      "\n",
      "ah get well soon [[tweet]] the pain away haha\n",
      "\n",
      "ah get well soon [[twitter]] the pain away haha\n",
      "\n",
      "\n",
      "--------------------------------------------- Result 42 ---------------------------------------------\n",
      "[[0 (86%)]] --> [[[SKIPPED]]]\n",
      "\n",
      "breakfast doneshower donetime to get myself sorted for a day of essay writing\n",
      "\n",
      "\n"
     ]
    },
    {
     "name": "stderr",
     "output_type": "stream",
     "text": [
      "[Succeeded / Failed / Skipped / Total] 17 / 0 / 26 / 43:  86%|████████▌ | 43/50 [00:27<00:04,  1.57it/s]"
     ]
    },
    {
     "name": "stdout",
     "output_type": "stream",
     "text": [
      "--------------------------------------------- Result 43 ---------------------------------------------\n",
      "[[1 (93%)]] --> [[0 (56%)]]\n",
      "\n",
      "[[every]] one seem to [[be]] watching marly and me  i think i need to go and see this\n",
      "\n",
      "[[each]] one seem to [[got]] watching marly and me  i think i need to go and see this\n",
      "\n",
      "\n"
     ]
    },
    {
     "name": "stderr",
     "output_type": "stream",
     "text": [
      "[Succeeded / Failed / Skipped / Total] 18 / 0 / 27 / 45:  90%|█████████ | 45/50 [00:28<00:03,  1.59it/s]"
     ]
    },
    {
     "name": "stdout",
     "output_type": "stream",
     "text": [
      "--------------------------------------------- Result 44 ---------------------------------------------\n",
      "[[0 (74%)]] --> [[1 (52%)]]\n",
      "\n",
      "how can it be soo cold in cali when its almost june im [[sick]] of may [[gray]]\n",
      "\n",
      "how can it be soo cold in cali when its almost june im [[crazy]] of may [[gris]]\n",
      "\n",
      "\n",
      "--------------------------------------------- Result 45 ---------------------------------------------\n",
      "[[0 (95%)]] --> [[[SKIPPED]]]\n",
      "\n",
      "exciting sending positive energy your way and cant wait for tonight\n",
      "\n",
      "\n"
     ]
    },
    {
     "name": "stderr",
     "output_type": "stream",
     "text": [
      "[Succeeded / Failed / Skipped / Total] 19 / 0 / 27 / 46:  92%|█████████▏| 46/50 [00:28<00:02,  1.59it/s]"
     ]
    },
    {
     "name": "stdout",
     "output_type": "stream",
     "text": [
      "--------------------------------------------- Result 46 ---------------------------------------------\n",
      "[[0 (72%)]] --> [[1 (53%)]]\n",
      "\n",
      "thanx  i [[want]] the back [[cover]] too but it was out of stock\n",
      "\n",
      "thanx  i [[would]] the back [[blanket]] too but it was out of stock\n",
      "\n",
      "\n"
     ]
    },
    {
     "name": "stderr",
     "output_type": "stream",
     "text": [
      "[Succeeded / Failed / Skipped / Total] 19 / 1 / 28 / 48:  96%|█████████▌| 48/50 [00:30<00:01,  1.55it/s]"
     ]
    },
    {
     "name": "stdout",
     "output_type": "stream",
     "text": [
      "--------------------------------------------- Result 47 ---------------------------------------------\n",
      "[[0 (99%)]] --> [[[FAILED]]]\n",
      "\n",
      "mark daly out about 150 short of money\n",
      "\n",
      "\n",
      "--------------------------------------------- Result 48 ---------------------------------------------\n",
      "[[1 (67%)]] --> [[[SKIPPED]]]\n",
      "\n",
      "of course lol havent talked to you on facebook in a while though\n",
      "\n",
      "\n"
     ]
    },
    {
     "name": "stderr",
     "output_type": "stream",
     "text": [
      "[Succeeded / Failed / Skipped / Total] 20 / 1 / 28 / 49:  98%|█████████▊| 49/50 [00:31<00:00,  1.55it/s]"
     ]
    },
    {
     "name": "stdout",
     "output_type": "stream",
     "text": [
      "--------------------------------------------- Result 49 ---------------------------------------------\n",
      "[[0 (79%)]] --> [[1 (88%)]]\n",
      "\n",
      "heading back to toronto today a [[little]] early though\n",
      "\n",
      "heading back to toronto today a [[smaller]] early though\n",
      "\n",
      "\n"
     ]
    },
    {
     "name": "stderr",
     "output_type": "stream",
     "text": [
      "[Succeeded / Failed / Skipped / Total] 20 / 2 / 28 / 50: 100%|██████████| 50/50 [00:34<00:00,  1.47it/s]textattack: Saving checkpoint under \"outputs/checkpoints\\1748641100643.ta.chkpt\" at 2025-05-30 22:38:20 after 50 attacks.\n"
     ]
    },
    {
     "name": "stdout",
     "output_type": "stream",
     "text": [
      "--------------------------------------------- Result 50 ---------------------------------------------\n",
      "[[0 (90%)]] --> [[[FAILED]]]\n",
      "\n",
      "oh yesturday  skool was sad but so funny i am going to miss all my beezies  wat will i do without them\n",
      "\n",
      "\n",
      "\n",
      "\n",
      "=============================================================================================================================\n",
      "=============================================================================================================================\n",
      "\n"
     ]
    },
    {
     "name": "stderr",
     "output_type": "stream",
     "text": [
      "[Succeeded / Failed / Skipped / Total] 20 / 2 / 28 / 50: 100%|██████████| 50/50 [00:34<00:00,  1.47it/s]"
     ]
    },
    {
     "name": "stdout",
     "output_type": "stream",
     "text": [
      "\n",
      "+-------------------------------+--------+\n",
      "| Attack Results                |        |\n",
      "+-------------------------------+--------+\n",
      "| Number of successful attacks: | 20     |\n",
      "| Number of failed attacks:     | 2      |\n",
      "| Number of skipped attacks:    | 28     |\n",
      "| Original accuracy:            | 44.0%  |\n",
      "| Accuracy under attack:        | 4.0%   |\n",
      "| Attack success rate:          | 90.91% |\n",
      "| Average perturbed word %:     | 12.08% |\n",
      "| Average num. words per input: | 12.98  |\n",
      "| Avg num queries:              | 56.0   |\n",
      "+-------------------------------+--------+"
     ]
    },
    {
     "name": "stderr",
     "output_type": "stream",
     "text": [
      "\n",
      "textattack: Logging to CSV at path outputs/attack_results.csv\n"
     ]
    },
    {
     "name": "stdout",
     "output_type": "stream",
     "text": [
      "\n",
      "\n",
      "Lancement de l'attaque : Attack\n",
      "Attack(\n",
      "  (search_method): GreedyWordSwapWIR(\n",
      "    (wir_method):  unk\n",
      "  )\n",
      "  (goal_function):  UntargetedClassification\n",
      "  (transformation):  CompositeTransformation(\n",
      "    (0): WordSwapNeighboringCharacterSwap(\n",
      "        (random_one):  True\n",
      "      )\n",
      "    (1): WordSwapRandomCharacterSubstitution(\n",
      "        (random_one):  True\n",
      "      )\n",
      "    (2): WordSwapRandomCharacterDeletion(\n",
      "        (random_one):  True\n",
      "      )\n",
      "    (3): WordSwapRandomCharacterInsertion(\n",
      "        (random_one):  True\n",
      "      )\n",
      "    )\n",
      "  (constraints): \n",
      "    (0): LevenshteinEditDistance(\n",
      "        (max_edit_distance):  30\n",
      "        (compare_against_original):  True\n",
      "      )\n",
      "    (1): RepeatModification\n",
      "    (2): StopwordModification\n",
      "  (is_black_box):  True\n",
      ") \n",
      "\n"
     ]
    },
    {
     "name": "stderr",
     "output_type": "stream",
     "text": [
      "[Succeeded / Failed / Skipped / Total] 0 / 0 / 1 / 1:   2%|▏         | 1/50 [00:00<00:11,  4.13it/s]"
     ]
    },
    {
     "name": "stdout",
     "output_type": "stream",
     "text": [
      "--------------------------------------------- Result 1 ---------------------------------------------\n",
      "[[0 (57%)]] --> [[[SKIPPED]]]\n",
      "\n",
      "with one hand in your pocket any accidental quotpath to groundquot wont include your heart\n",
      "\n",
      "\n"
     ]
    },
    {
     "name": "stderr",
     "output_type": "stream",
     "text": [
      "[Succeeded / Failed / Skipped / Total] 1 / 0 / 3 / 4:   8%|▊         | 4/50 [00:00<00:09,  4.61it/s]"
     ]
    },
    {
     "name": "stdout",
     "output_type": "stream",
     "text": [
      "--------------------------------------------- Result 2 ---------------------------------------------\n",
      "[[1 (53%)]] --> [[0 (54%)]]\n",
      "\n",
      "im in germany and its really funny here the wetter is sunny and its 10 oclock in the [[morning]]\n",
      "\n",
      "im in germany and its really funny here the wetter is sunny and its 10 oclock in the [[mocning]]\n",
      "\n",
      "\n",
      "--------------------------------------------- Result 3 ---------------------------------------------\n",
      "[[1 (92%)]] --> [[[SKIPPED]]]\n",
      "\n",
      "least you have a realtivly big brain compared to my microscopic one\n",
      "\n",
      "\n",
      "--------------------------------------------- Result 4 ---------------------------------------------\n",
      "[[1 (91%)]] --> [[[SKIPPED]]]\n",
      "\n",
      "for value for money we would vote dairyland or world  in newquay  some places very expensive though\n",
      "\n",
      "\n"
     ]
    },
    {
     "name": "stderr",
     "output_type": "stream",
     "text": [
      "[Succeeded / Failed / Skipped / Total] 2 / 0 / 5 / 7:  14%|█▍        | 7/50 [00:01<00:08,  5.34it/s]"
     ]
    },
    {
     "name": "stdout",
     "output_type": "stream",
     "text": [
      "--------------------------------------------- Result 5 ---------------------------------------------\n",
      "[[0 (62%)]] --> [[1 (91%)]]\n",
      "\n",
      "i want to go on holiday to [[somewhere]] very hot\n",
      "\n",
      "i want to go on holiday to [[somAewhere]] very hot\n",
      "\n",
      "\n",
      "--------------------------------------------- Result 6 ---------------------------------------------\n",
      "[[1 (59%)]] --> [[[SKIPPED]]]\n",
      "\n",
      "i remember that sort of thing from travelling to the uk from ireland in the 70s80s not happy to see it back\n",
      "\n",
      "\n",
      "--------------------------------------------- Result 7 ---------------------------------------------\n",
      "[[0 (84%)]] --> [[[SKIPPED]]]\n",
      "\n",
      "havent even heard of it this side  quick blurb\n",
      "\n",
      "\n"
     ]
    },
    {
     "name": "stderr",
     "output_type": "stream",
     "text": [
      "[Succeeded / Failed / Skipped / Total] 2 / 1 / 5 / 8:  16%|█▌        | 8/50 [00:01<00:08,  4.95it/s]"
     ]
    },
    {
     "name": "stdout",
     "output_type": "stream",
     "text": [
      "--------------------------------------------- Result 8 ---------------------------------------------\n",
      "[[1 (80%)]] --> [[[FAILED]]]\n",
      "\n",
      "steppin my game up\n",
      "\n",
      "\n"
     ]
    },
    {
     "name": "stderr",
     "output_type": "stream",
     "text": [
      "[Succeeded / Failed / Skipped / Total] 3 / 1 / 6 / 10:  20%|██        | 10/50 [00:01<00:07,  5.03it/s]textattack: Saving checkpoint under \"outputs/checkpoints\\1748641102689.ta.chkpt\" at 2025-05-30 22:38:22 after 10 attacks.\n"
     ]
    },
    {
     "name": "stdout",
     "output_type": "stream",
     "text": [
      "--------------------------------------------- Result 9 ---------------------------------------------\n",
      "[[1 (51%)]] --> [[0 (59%)]]\n",
      "\n",
      "no thank god havent been electrocuted yet either its my lucky day  hahaha yesterday kicked my [[arse]] it was just retarded\n",
      "\n",
      "no thank god havent been electrocuted yet either its my lucky day  hahaha yesterday kicked my [[Hrse]] it was just retarded\n",
      "\n",
      "\n",
      "--------------------------------------------- Result 10 ---------------------------------------------\n",
      "[[1 (58%)]] --> [[[SKIPPED]]]\n",
      "\n",
      "its true we couldnt hear parts over here\n",
      "\n",
      "\n",
      "\n",
      "\n",
      "=============================================================================================================================\n",
      "=============================================================================================================================\n",
      "\n"
     ]
    },
    {
     "name": "stderr",
     "output_type": "stream",
     "text": [
      "[Succeeded / Failed / Skipped / Total] 3 / 1 / 7 / 11:  22%|██▏       | 11/50 [00:02<00:07,  5.29it/s]"
     ]
    },
    {
     "name": "stdout",
     "output_type": "stream",
     "text": [
      "--------------------------------------------- Result 11 ---------------------------------------------\n",
      "[[0 (56%)]] --> [[[SKIPPED]]]\n",
      "\n",
      "im taking applications for the dark side\n",
      "\n",
      "\n"
     ]
    },
    {
     "name": "stderr",
     "output_type": "stream",
     "text": [
      "[Succeeded / Failed / Skipped / Total] 4 / 1 / 7 / 12:  24%|██▍       | 12/50 [00:02<00:07,  5.01it/s]"
     ]
    },
    {
     "name": "stdout",
     "output_type": "stream",
     "text": [
      "--------------------------------------------- Result 12 ---------------------------------------------\n",
      "[[1 (69%)]] --> [[0 (52%)]]\n",
      "\n",
      "me too i came into [[work]] early so i wont feel [[guilty]] when i leave these suckers at [[noon]]\n",
      "\n",
      "me too i came into [[owrk]] early so i wont feel [[gudilty]] when i leave these suckers at [[nooV]]\n",
      "\n",
      "\n"
     ]
    },
    {
     "name": "stderr",
     "output_type": "stream",
     "text": [
      "[Succeeded / Failed / Skipped / Total] 5 / 1 / 8 / 14:  28%|██▊       | 14/50 [00:02<00:07,  4.99it/s]"
     ]
    },
    {
     "name": "stdout",
     "output_type": "stream",
     "text": [
      "--------------------------------------------- Result 13 ---------------------------------------------\n",
      "[[1 (68%)]] --> [[0 (57%)]]\n",
      "\n",
      "[[go]] to opera its better than both\n",
      "\n",
      "[[gqo]] to opera its better than both\n",
      "\n",
      "\n",
      "--------------------------------------------- Result 14 ---------------------------------------------\n",
      "[[0 (60%)]] --> [[[SKIPPED]]]\n",
      "\n",
      "but todays your birthday as far as i can remember hope its a wonderful one\n",
      "\n",
      "\n"
     ]
    },
    {
     "name": "stderr",
     "output_type": "stream",
     "text": [
      "[Succeeded / Failed / Skipped / Total] 5 / 2 / 8 / 15:  30%|███       | 15/50 [00:03<00:08,  4.06it/s]"
     ]
    },
    {
     "name": "stdout",
     "output_type": "stream",
     "text": [
      "--------------------------------------------- Result 15 ---------------------------------------------\n",
      "[[1 (95%)]] --> [[[FAILED]]]\n",
      "\n",
      "yipeeee kapitan sino mama loves me she paid for it hahaha\n",
      "\n",
      "\n"
     ]
    },
    {
     "name": "stderr",
     "output_type": "stream",
     "text": [
      "[Succeeded / Failed / Skipped / Total] 6 / 2 / 9 / 17:  34%|███▍      | 17/50 [00:04<00:08,  3.86it/s]"
     ]
    },
    {
     "name": "stdout",
     "output_type": "stream",
     "text": [
      "--------------------------------------------- Result 16 ---------------------------------------------\n",
      "[[0 (91%)]] --> [[1 (55%)]]\n",
      "\n",
      "i [[cant]] find anything i have changed my interior designer like 479012652 times haha i [[hate]] this assignment\n",
      "\n",
      "i [[can]] find anything i have changed my interior designer like 479012652 times haha i [[hTte]] this assignment\n",
      "\n",
      "\n",
      "--------------------------------------------- Result 17 ---------------------------------------------\n",
      "[[1 (63%)]] --> [[[SKIPPED]]]\n",
      "\n",
      "hangin out drinkin beer dont wanna go to work in the morning\n",
      "\n",
      "\n"
     ]
    },
    {
     "name": "stderr",
     "output_type": "stream",
     "text": [
      "[Succeeded / Failed / Skipped / Total] 6 / 2 / 10 / 18:  36%|███▌      | 18/50 [00:04<00:08,  3.93it/s]"
     ]
    },
    {
     "name": "stdout",
     "output_type": "stream",
     "text": [
      "--------------------------------------------- Result 18 ---------------------------------------------\n",
      "[[1 (57%)]] --> [[[SKIPPED]]]\n",
      "\n",
      "ive had a headache ever since i woke up this morning\n",
      "\n",
      "\n"
     ]
    },
    {
     "name": "stderr",
     "output_type": "stream",
     "text": [
      "[Succeeded / Failed / Skipped / Total] 7 / 2 / 10 / 19:  38%|███▊      | 19/50 [00:05<00:08,  3.79it/s]"
     ]
    },
    {
     "name": "stdout",
     "output_type": "stream",
     "text": [
      "--------------------------------------------- Result 19 ---------------------------------------------\n",
      "[[0 (58%)]] --> [[1 (57%)]]\n",
      "\n",
      "i  [[miss]] sleep  real bad but im completly not tired didnt sleep one bit last night\n",
      "\n",
      "i  [[Tiss]] sleep  real bad but im completly not tired didnt sleep one bit last night\n",
      "\n",
      "\n"
     ]
    },
    {
     "name": "stderr",
     "output_type": "stream",
     "text": [
      "[Succeeded / Failed / Skipped / Total] 7 / 2 / 11 / 20:  40%|████      | 20/50 [00:05<00:07,  3.81it/s]textattack: Saving checkpoint under \"outputs/checkpoints\\1748641105946.ta.chkpt\" at 2025-05-30 22:38:25 after 20 attacks.\n"
     ]
    },
    {
     "name": "stdout",
     "output_type": "stream",
     "text": [
      "--------------------------------------------- Result 20 ---------------------------------------------\n",
      "[[1 (52%)]] --> [[[SKIPPED]]]\n",
      "\n",
      "dang thats what i forgot from tjs yesterday\n",
      "\n",
      "\n",
      "\n",
      "\n",
      "=============================================================================================================================\n",
      "=============================================================================================================================\n",
      "\n"
     ]
    },
    {
     "name": "stderr",
     "output_type": "stream",
     "text": [
      "[Succeeded / Failed / Skipped / Total] 7 / 2 / 13 / 22:  44%|████▍     | 22/50 [00:05<00:07,  3.96it/s]"
     ]
    },
    {
     "name": "stdout",
     "output_type": "stream",
     "text": [
      "--------------------------------------------- Result 21 ---------------------------------------------\n",
      "[[1 (54%)]] --> [[[SKIPPED]]]\n",
      "\n",
      "stopped at the mcdonalds eastland for lunch then back on the road for another 3 hours\n",
      "\n",
      "\n",
      "--------------------------------------------- Result 22 ---------------------------------------------\n",
      "[[1 (90%)]] --> [[[SKIPPED]]]\n",
      "\n",
      "terminator salivation was a letdown\n",
      "\n",
      "\n"
     ]
    },
    {
     "name": "stderr",
     "output_type": "stream",
     "text": [
      "[Succeeded / Failed / Skipped / Total] 8 / 2 / 13 / 23:  46%|████▌     | 23/50 [00:06<00:07,  3.68it/s]"
     ]
    },
    {
     "name": "stdout",
     "output_type": "stream",
     "text": [
      "--------------------------------------------- Result 23 ---------------------------------------------\n",
      "[[0 (52%)]] --> [[1 (54%)]]\n",
      "\n",
      "omg im so mad i noticed the big dipper on nicks face a long [[time]] ago not [[fair]]\n",
      "\n",
      "omg im so mad i noticed the big dipper on nicks face a long [[tim]] ago not [[faif]]\n",
      "\n",
      "\n"
     ]
    },
    {
     "name": "stderr",
     "output_type": "stream",
     "text": [
      "[Succeeded / Failed / Skipped / Total] 9 / 2 / 13 / 24:  48%|████▊     | 24/50 [00:06<00:07,  3.54it/s]"
     ]
    },
    {
     "name": "stdout",
     "output_type": "stream",
     "text": [
      "--------------------------------------------- Result 24 ---------------------------------------------\n",
      "[[0 (77%)]] --> [[1 (58%)]]\n",
      "\n",
      "oh [[god]] after the news im being force fed a tory campaign [[video]]  trying not to yell at [[tv]]\n",
      "\n",
      "oh [[go]] after the news im being force fed a tory campaign [[ivdeo]]  trying not to yell at [[t]]\n",
      "\n",
      "\n"
     ]
    },
    {
     "name": "stderr",
     "output_type": "stream",
     "text": [
      "[Succeeded / Failed / Skipped / Total] 9 / 3 / 13 / 25:  50%|█████     | 25/50 [00:07<00:07,  3.44it/s]"
     ]
    },
    {
     "name": "stdout",
     "output_type": "stream",
     "text": [
      "--------------------------------------------- Result 25 ---------------------------------------------\n",
      "[[1 (98%)]] --> [[[FAILED]]]\n",
      "\n",
      "good morning everyone\n",
      "\n",
      "\n"
     ]
    },
    {
     "name": "stderr",
     "output_type": "stream",
     "text": [
      "[Succeeded / Failed / Skipped / Total] 9 / 4 / 14 / 27:  54%|█████▍    | 27/50 [00:08<00:06,  3.36it/s]"
     ]
    },
    {
     "name": "stdout",
     "output_type": "stream",
     "text": [
      "--------------------------------------------- Result 26 ---------------------------------------------\n",
      "[[1 (88%)]] --> [[[FAILED]]]\n",
      "\n",
      "agreedbut that would be 16 years\n",
      "\n",
      "\n",
      "--------------------------------------------- Result 27 ---------------------------------------------\n",
      "[[1 (69%)]] --> [[[SKIPPED]]]\n",
      "\n",
      "i want 10 more followers\n",
      "\n",
      "\n"
     ]
    },
    {
     "name": "stderr",
     "output_type": "stream",
     "text": [
      "[Succeeded / Failed / Skipped / Total] 9 / 4 / 16 / 29:  60%|██████    | 30/50 [00:08<00:05,  3.58it/s]"
     ]
    },
    {
     "name": "stdout",
     "output_type": "stream",
     "text": [
      "--------------------------------------------- Result 28 ---------------------------------------------\n",
      "[[1 (56%)]] --> [[[SKIPPED]]]\n",
      "\n",
      "stuffed now  just had a pint and steak in the redwell could have done with more but is driving\n",
      "\n",
      "\n",
      "--------------------------------------------- Result 29 ---------------------------------------------\n",
      "[[0 (68%)]] --> [[[SKIPPED]]]\n",
      "\n",
      "dude is going to require more sleep than this she says but thanks 4 the pic yall look adorable\n",
      "\n",
      "\n"
     ]
    },
    {
     "name": "stderr",
     "output_type": "stream",
     "text": [
      "[Succeeded / Failed / Skipped / Total] 9 / 4 / 17 / 30:  60%|██████    | 30/50 [00:08<00:05,  3.58it/s]textattack: Saving checkpoint under \"outputs/checkpoints\\1748641109089.ta.chkpt\" at 2025-05-30 22:38:29 after 30 attacks.\n"
     ]
    },
    {
     "name": "stdout",
     "output_type": "stream",
     "text": [
      "--------------------------------------------- Result 30 ---------------------------------------------\n",
      "[[1 (59%)]] --> [[[SKIPPED]]]\n",
      "\n",
      "opening night for r amp j but im home early and have to work tomorrow\n",
      "\n",
      "\n",
      "\n",
      "\n",
      "=============================================================================================================================\n",
      "=============================================================================================================================\n",
      "\n"
     ]
    },
    {
     "name": "stderr",
     "output_type": "stream",
     "text": [
      "[Succeeded / Failed / Skipped / Total] 9 / 4 / 18 / 31:  64%|██████▍   | 32/50 [00:08<00:04,  3.73it/s]"
     ]
    },
    {
     "name": "stdout",
     "output_type": "stream",
     "text": [
      "--------------------------------------------- Result 31 ---------------------------------------------\n",
      "[[1 (53%)]] --> [[[SKIPPED]]]\n",
      "\n",
      "cleaning my room this is gonna take hours  gab\n",
      "\n",
      "\n"
     ]
    },
    {
     "name": "stderr",
     "output_type": "stream",
     "text": [
      "[Succeeded / Failed / Skipped / Total] 9 / 4 / 20 / 33:  66%|██████▌   | 33/50 [00:08<00:04,  3.80it/s]"
     ]
    },
    {
     "name": "stdout",
     "output_type": "stream",
     "text": [
      "--------------------------------------------- Result 32 ---------------------------------------------\n",
      "[[0 (66%)]] --> [[[SKIPPED]]]\n",
      "\n",
      "lol makes me think of that old saying if the room is rockin dont come knockin just a small earthquake\n",
      "\n",
      "\n",
      "--------------------------------------------- Result 33 ---------------------------------------------\n",
      "[[1 (63%)]] --> [[[SKIPPED]]]\n",
      "\n",
      "mwahaha so you never gonna come and see me then\n",
      "\n",
      "\n"
     ]
    },
    {
     "name": "stderr",
     "output_type": "stream",
     "text": [
      "[Succeeded / Failed / Skipped / Total] 9 / 4 / 21 / 34:  68%|██████▊   | 34/50 [00:08<00:04,  3.88it/s]"
     ]
    },
    {
     "name": "stdout",
     "output_type": "stream",
     "text": [
      "--------------------------------------------- Result 34 ---------------------------------------------\n",
      "[[1 (65%)]] --> [[[SKIPPED]]]\n",
      "\n",
      "hugs im feeling your pain i have to work overtime all this week\n",
      "\n",
      "\n"
     ]
    },
    {
     "name": "stderr",
     "output_type": "stream",
     "text": [
      "[Succeeded / Failed / Skipped / Total] 9 / 4 / 23 / 36:  72%|███████▏  | 36/50 [00:08<00:03,  4.03it/s]"
     ]
    },
    {
     "name": "stdout",
     "output_type": "stream",
     "text": [
      "--------------------------------------------- Result 35 ---------------------------------------------\n",
      "[[0 (74%)]] --> [[[SKIPPED]]]\n",
      "\n",
      "haha yeah that rusko remix is jokes\n",
      "\n",
      "\n",
      "--------------------------------------------- Result 36 ---------------------------------------------\n",
      "[[0 (62%)]] --> [[[SKIPPED]]]\n",
      "\n",
      "loves you to girl\n",
      "\n",
      "\n"
     ]
    },
    {
     "name": "stderr",
     "output_type": "stream",
     "text": [
      "[Succeeded / Failed / Skipped / Total] 9 / 4 / 24 / 37:  74%|███████▍  | 37/50 [00:09<00:03,  4.10it/s]"
     ]
    },
    {
     "name": "stdout",
     "output_type": "stream",
     "text": [
      "--------------------------------------------- Result 37 ---------------------------------------------\n",
      "[[0 (93%)]] --> [[[SKIPPED]]]\n",
      "\n",
      "you girls should follow  shes got twitter now\n",
      "\n",
      "\n"
     ]
    },
    {
     "name": "stderr",
     "output_type": "stream",
     "text": [
      "[Succeeded / Failed / Skipped / Total] 9 / 4 / 25 / 38:  76%|███████▌  | 38/50 [00:09<00:02,  4.16it/s]"
     ]
    },
    {
     "name": "stdout",
     "output_type": "stream",
     "text": [
      "--------------------------------------------- Result 38 ---------------------------------------------\n",
      "[[0 (74%)]] --> [[[SKIPPED]]]\n",
      "\n",
      "tom i need to share this just got bttf n dvdi have never seen it is it a good moviestupid questio bye please awnser\n",
      "\n",
      "\n"
     ]
    },
    {
     "name": "stderr",
     "output_type": "stream",
     "text": [
      "[Succeeded / Failed / Skipped / Total] 10 / 4 / 25 / 39:  78%|███████▊  | 39/50 [00:09<00:02,  4.17it/s]"
     ]
    },
    {
     "name": "stdout",
     "output_type": "stream",
     "text": [
      "--------------------------------------------- Result 39 ---------------------------------------------\n",
      "[[1 (67%)]] --> [[0 (54%)]]\n",
      "\n",
      "is anyone capable of [[driving]] a manual car and wants to do me a favor  you will be compensated  no but really candy could be involved\n",
      "\n",
      "is anyone capable of [[driviing]] a manual car and wants to do me a favor  you will be compensated  no but really candy could be involved\n",
      "\n",
      "\n"
     ]
    },
    {
     "name": "stderr",
     "output_type": "stream",
     "text": [
      "[Succeeded / Failed / Skipped / Total] 11 / 4 / 25 / 40:  80%|████████  | 40/50 [00:10<00:02,  3.80it/s]textattack: Saving checkpoint under \"outputs/checkpoints\\1748641111240.ta.chkpt\" at 2025-05-30 22:38:31 after 40 attacks.\n"
     ]
    },
    {
     "name": "stdout",
     "output_type": "stream",
     "text": [
      "--------------------------------------------- Result 40 ---------------------------------------------\n",
      "[[1 (61%)]] --> [[0 (52%)]]\n",
      "\n",
      "mileeyyy your amazing  [[youu]] lokked lovely at music awards\n",
      "\n",
      "mileeyyy your amazing  [[you]] lokked lovely at music awards\n",
      "\n",
      "\n",
      "\n",
      "\n",
      "=============================================================================================================================\n",
      "=============================================================================================================================\n",
      "\n"
     ]
    },
    {
     "name": "stderr",
     "output_type": "stream",
     "text": [
      "[Succeeded / Failed / Skipped / Total] 12 / 4 / 25 / 41:  82%|████████▏ | 41/50 [00:11<00:02,  3.62it/s]"
     ]
    },
    {
     "name": "stdout",
     "output_type": "stream",
     "text": [
      "--------------------------------------------- Result 41 ---------------------------------------------\n",
      "[[0 (57%)]] --> [[1 (80%)]]\n",
      "\n",
      "ah get well soon [[tweet]] the pain away haha\n",
      "\n",
      "ah get well soon [[mtweet]] the pain away haha\n",
      "\n",
      "\n"
     ]
    },
    {
     "name": "stderr",
     "output_type": "stream",
     "text": [
      "[Succeeded / Failed / Skipped / Total] 12 / 4 / 26 / 42:  84%|████████▍ | 42/50 [00:11<00:02,  3.65it/s]"
     ]
    },
    {
     "name": "stdout",
     "output_type": "stream",
     "text": [
      "--------------------------------------------- Result 42 ---------------------------------------------\n",
      "[[0 (86%)]] --> [[[SKIPPED]]]\n",
      "\n",
      "breakfast doneshower donetime to get myself sorted for a day of essay writing\n",
      "\n",
      "\n"
     ]
    },
    {
     "name": "stderr",
     "output_type": "stream",
     "text": [
      "[Succeeded / Failed / Skipped / Total] 12 / 5 / 26 / 43:  86%|████████▌ | 43/50 [00:13<00:02,  3.09it/s]"
     ]
    },
    {
     "name": "stdout",
     "output_type": "stream",
     "text": [
      "--------------------------------------------- Result 43 ---------------------------------------------\n",
      "[[1 (93%)]] --> [[[FAILED]]]\n",
      "\n",
      "every one seem to be watching marly and me  i think i need to go and see this\n",
      "\n",
      "\n"
     ]
    },
    {
     "name": "stderr",
     "output_type": "stream",
     "text": [
      "[Succeeded / Failed / Skipped / Total] 13 / 5 / 26 / 44:  88%|████████▊ | 44/50 [00:14<00:01,  3.01it/s]"
     ]
    },
    {
     "name": "stdout",
     "output_type": "stream",
     "text": [
      "--------------------------------------------- Result 44 ---------------------------------------------\n",
      "[[0 (74%)]] --> [[1 (58%)]]\n",
      "\n",
      "how can it be soo cold in cali when its almost june im [[sick]] of [[may]] gray\n",
      "\n",
      "how can it be soo cold in cali when its almost june im [[siQk]] of [[amy]] gray\n",
      "\n",
      "\n",
      "--------------------------------------------- Result 45 ---------------------------------------------\n",
      "[[0 (95%)]] --> [[[SKIPPED]]]\n",
      "\n",
      "exciting sending positive energy your way and cant wait for tonight\n",
      "\n",
      "\n"
     ]
    },
    {
     "name": "stderr",
     "output_type": "stream",
     "text": [
      "[Succeeded / Failed / Skipped / Total] 13 / 6 / 27 / 46:  92%|█████████▏| 46/50 [00:16<00:01,  2.86it/s]"
     ]
    },
    {
     "name": "stdout",
     "output_type": "stream",
     "text": [
      "--------------------------------------------- Result 46 ---------------------------------------------\n",
      "[[0 (72%)]] --> [[[FAILED]]]\n",
      "\n",
      "thanx  i want the back cover too but it was out of stock\n",
      "\n",
      "\n"
     ]
    },
    {
     "name": "stderr",
     "output_type": "stream",
     "text": [
      "[Succeeded / Failed / Skipped / Total] 13 / 7 / 27 / 47:  96%|█████████▌| 48/50 [00:17<00:00,  2.68it/s]"
     ]
    },
    {
     "name": "stdout",
     "output_type": "stream",
     "text": [
      "--------------------------------------------- Result 47 ---------------------------------------------\n",
      "[[0 (99%)]] --> [[[FAILED]]]\n",
      "\n",
      "mark daly out about 150 short of money\n",
      "\n",
      "\n",
      "--------------------------------------------- Result 48 ---------------------------------------------\n",
      "[[1 (67%)]] --> [[[SKIPPED]]]\n",
      "\n",
      "of course lol havent talked to you on facebook in a while though\n",
      "\n",
      "\n"
     ]
    },
    {
     "name": "stderr",
     "output_type": "stream",
     "text": [
      "[Succeeded / Failed / Skipped / Total] 14 / 7 / 28 / 49:  98%|█████████▊| 49/50 [00:18<00:00,  2.64it/s]"
     ]
    },
    {
     "name": "stdout",
     "output_type": "stream",
     "text": [
      "--------------------------------------------- Result 49 ---------------------------------------------\n",
      "[[0 (79%)]] --> [[1 (79%)]]\n",
      "\n",
      "heading back to toronto today a [[little]] early though\n",
      "\n",
      "heading back to toronto today a [[lAttle]] early though\n",
      "\n",
      "\n"
     ]
    },
    {
     "name": "stderr",
     "output_type": "stream",
     "text": [
      "[Succeeded / Failed / Skipped / Total] 15 / 7 / 28 / 50: 100%|██████████| 50/50 [00:20<00:00,  2.50it/s]textattack: Saving checkpoint under \"outputs/checkpoints\\1748641120727.ta.chkpt\" at 2025-05-30 22:38:40 after 50 attacks.\n"
     ]
    },
    {
     "name": "stdout",
     "output_type": "stream",
     "text": [
      "--------------------------------------------- Result 50 ---------------------------------------------\n",
      "[[0 (90%)]] --> [[1 (53%)]]\n",
      "\n",
      "oh yesturday  skool was [[sad]] but so [[funny]] i am going to miss all my beezies  [[wat]] will i do [[without]] them\n",
      "\n",
      "oh yesturday  skool was [[asd]] but so [[fUunny]] i am going to miss all my beezies  [[Cat]] will i do [[iwthout]] them\n",
      "\n",
      "\n",
      "\n",
      "\n",
      "=============================================================================================================================\n",
      "=============================================================================================================================\n",
      "\n"
     ]
    },
    {
     "name": "stderr",
     "output_type": "stream",
     "text": [
      "[Succeeded / Failed / Skipped / Total] 15 / 7 / 28 / 50: 100%|██████████| 50/50 [00:20<00:00,  2.49it/s]"
     ]
    },
    {
     "name": "stdout",
     "output_type": "stream",
     "text": [
      "\n",
      "+-------------------------------+--------+\n",
      "| Attack Results                |        |\n",
      "+-------------------------------+--------+\n",
      "| Number of successful attacks: | 15     |\n",
      "| Number of failed attacks:     | 7      |\n",
      "| Number of skipped attacks:    | 28     |\n",
      "| Original accuracy:            | 44.0%  |\n",
      "| Accuracy under attack:        | 14.0%  |\n",
      "| Attack success rate:          | 68.18% |\n",
      "| Average perturbed word %:     | 10.77% |\n",
      "| Average num. words per input: | 12.98  |\n",
      "| Avg num queries:              | 20.86  |\n",
      "+-------------------------------+--------+\n"
     ]
    },
    {
     "name": "stderr",
     "output_type": "stream",
     "text": [
      "\n"
     ]
    }
   ],
   "source": [
    "# Appliquer chaque attaque\n",
    "for attack in attack_recipes:\n",
    "    print(f\"\\nLancement de l'attaque : {attack.__class__.__name__}\")\n",
    "    try:\n",
    "        attacker = Attacker(attack, attack_dataset, attack_args)\n",
    "        attacker.attack_dataset()\n",
    "    except Exception as e:\n",
    "        print(f\"Erreur lors de l'attaque {attack.__class__.__name__} : {e}\")"
   ]
  },
  {
   "cell_type": "markdown",
   "metadata": {},
   "source": [
    "## 5. Évaluation des résultats"
   ]
  },
  {
   "cell_type": "code",
   "execution_count": 23,
   "metadata": {},
   "outputs": [],
   "source": [
    "# Charger les résultats\n",
    "try:\n",
    "    attack_results = pd.read_csv(\"outputs/attack_results.csv\")\n",
    "except FileNotFoundError:\n",
    "    print(\"Erreur : Le fichier 'attack_results.csv' n'a pas été généré.\")\n",
    "    print(\"Vérifiez si les attaques ont été exécutées correctement.\")\n",
    "    exit()"
   ]
  },
  {
   "cell_type": "code",
   "execution_count": 24,
   "metadata": {},
   "outputs": [
    {
     "name": "stdout",
     "output_type": "stream",
     "text": [
      "\n",
      "Colonnes dans attack_results.csv :\n",
      "['original_text', 'perturbed_text', 'original_score', 'perturbed_score', 'original_output', 'perturbed_output', 'ground_truth_output', 'num_queries', 'result_type']\n"
     ]
    }
   ],
   "source": [
    "# Inspecter les colonnes du fichier attack_results.csv\n",
    "print(\"\\nColonnes dans attack_results.csv :\")\n",
    "print(attack_results.columns.tolist())"
   ]
  },
  {
   "cell_type": "code",
   "execution_count": 25,
   "metadata": {},
   "outputs": [
    {
     "name": "stdout",
     "output_type": "stream",
     "text": [
      "\n",
      "Taux de succès global des attaques : 0.3000\n"
     ]
    }
   ],
   "source": [
    "# Calculer le taux de succès des attaques\n",
    "success_rate = (attack_results['result_type'] == 'Successful').mean()\n",
    "print(f\"\\nTaux de succès global des attaques : {success_rate:.4f}\")"
   ]
  },
  {
   "cell_type": "code",
   "execution_count": 27,
   "metadata": {},
   "outputs": [
    {
     "name": "stdout",
     "output_type": "stream",
     "text": [
      "Colonne des étiquettes réelles utilisée : ground_truth_output\n"
     ]
    }
   ],
   "source": [
    "# Vérifier la présence de la colonne des étiquettes réelles\n",
    "label_column = None\n",
    "for col in attack_results.columns:\n",
    "    if 'label' in col.lower() or 'truth' in col.lower():\n",
    "        label_column = col\n",
    "        break\n",
    "\n",
    "if label_column is None:\n",
    "    print(\"Erreur : Aucune colonne pour les étiquettes réelles n'a été trouvée.\")\n",
    "    print(\"Veuillez vérifier le contenu de 'outputs/attack_results.csv'.\")\n",
    "    exit()\n",
    "\n",
    "print(f\"Colonne des étiquettes réelles utilisée : {label_column}\")"
   ]
  },
  {
   "cell_type": "code",
   "execution_count": 28,
   "metadata": {},
   "outputs": [],
   "source": [
    "# Extraire les prédictions\n",
    "y_true = attack_results[label_column]\n",
    "y_pred_before = attack_results['original_output'].apply(lambda x: 1 if x > 0.5 else 0)\n",
    "y_pred_after = attack_results['perturbed_output'].apply(lambda x: 1 if x > 0.5 else 0)"
   ]
  },
  {
   "cell_type": "code",
   "execution_count": 29,
   "metadata": {},
   "outputs": [
    {
     "name": "stdout",
     "output_type": "stream",
     "text": [
      "Accuracy avant attaque : 0.4400\n",
      "Accuracy après attaque : 0.1400\n",
      "Δ Accuracy : 0.3000\n",
      "F1-score avant attaque : 0.4400\n",
      "F1-score après attaque : 0.1887\n"
     ]
    }
   ],
   "source": [
    "# Calculer les métriques\n",
    "accuracy_before = accuracy_score(y_true, y_pred_before)\n",
    "accuracy_after = accuracy_score(y_true, y_pred_after)\n",
    "f1_before = f1_score(y_true, y_pred_before)\n",
    "f1_after = f1_score(y_true, y_pred_after)\n",
    "\n",
    "print(f\"Accuracy avant attaque : {accuracy_before:.4f}\")\n",
    "print(f\"Accuracy après attaque : {accuracy_after:.4f}\")\n",
    "print(f\"Δ Accuracy : {accuracy_before - accuracy_after:.4f}\")\n",
    "print(f\"F1-score avant attaque : {f1_before:.4f}\")\n",
    "print(f\"F1-score après attaque : {f1_after:.4f}\")"
   ]
  },
  {
   "cell_type": "code",
   "execution_count": 30,
   "metadata": {},
   "outputs": [
    {
     "name": "stdout",
     "output_type": "stream",
     "text": [
      "\n",
      "Exemples d'attaques :\n",
      "\n",
      "Exemple 1:\n",
      "Texte original : with one hand in your pocket any accidental quotpath to groundquot wont include your heart\n",
      "Texte attaqué : with one hand in your pocket any accidental quotpath to groundquot wont include your heart\n",
      "Prédiction originale : 0.0000\n",
      "Prédiction attaquée : 0.0000\n",
      "Résultat : Skipped\n",
      "\n",
      "Exemple 2:\n",
      "Texte original : im in germany and its really funny here the wetter is sunny and its 10 oclock in the [[morning]]\n",
      "Texte attaqué : im in germany and its really funny here the wetter is sunny and its 10 oclock in the [[mocning]]\n",
      "Prédiction originale : 1.0000\n",
      "Prédiction attaquée : 0.0000\n",
      "Résultat : Successful\n",
      "\n",
      "Exemple 3:\n",
      "Texte original : least you have a realtivly big brain compared to my microscopic one\n",
      "Texte attaqué : least you have a realtivly big brain compared to my microscopic one\n",
      "Prédiction originale : 1.0000\n",
      "Prédiction attaquée : 1.0000\n",
      "Résultat : Skipped\n",
      "\n",
      "Exemple 4:\n",
      "Texte original : for value for money we would vote dairyland or world  in newquay  some places very expensive though\n",
      "Texte attaqué : for value for money we would vote dairyland or world  in newquay  some places very expensive though\n",
      "Prédiction originale : 1.0000\n",
      "Prédiction attaquée : 1.0000\n",
      "Résultat : Skipped\n",
      "\n",
      "Exemple 5:\n",
      "Texte original : i want to go on holiday to [[somewhere]] very hot\n",
      "Texte attaqué : i want to go on holiday to [[somAewhere]] very hot\n",
      "Prédiction originale : 0.0000\n",
      "Prédiction attaquée : 1.0000\n",
      "Résultat : Successful\n"
     ]
    }
   ],
   "source": [
    "# Afficher 5 exemples qualitatifs\n",
    "print(\"\\nExemples d'attaques :\")\n",
    "for i in range(min(5, len(attack_results))):\n",
    "    print(f\"\\nExemple {i+1}:\")\n",
    "    print(f\"Texte original : {attack_results['original_text'][i]}\")\n",
    "    print(f\"Texte attaqué : {attack_results['perturbed_text'][i]}\")\n",
    "    print(f\"Prédiction originale : {attack_results['original_output'][i]:.4f}\")\n",
    "    print(f\"Prédiction attaquée : {attack_results['perturbed_output'][i]:.4f}\")\n",
    "    print(f\"Résultat : {attack_results['result_type'][i]}\")"
   ]
  },
  {
   "cell_type": "markdown",
   "metadata": {},
   "source": [
    "## 6. Visualisation des résultats"
   ]
  },
  {
   "cell_type": "code",
   "execution_count": 34,
   "metadata": {},
   "outputs": [
    {
     "name": "stdout",
     "output_type": "stream",
     "text": [
      "Avertissement : Aucune colonne pour les noms d'attaques trouvée.\n",
      "Le graphique utilisera des taux de succès moyens pour chaque attaque.\n"
     ]
    },
    {
     "data": {
      "image/png": "[encoded data removed]",
      "text/plain": [
       "<Figure size 800x500 with 1 Axes>"
      ]
     },
     "metadata": {},
     "output_type": "display_data"
    }
   ],
   "source": [
    "# Graphique : Taux de succès par type d'attaque\n",
    "attack_name_column = None\n",
    "for col in attack_results.columns:\n",
    "    if 'attack' in col.lower() and 'name' in col.lower():\n",
    "        attack_name_column = col\n",
    "        break\n",
    "\n",
    "if attack_name_column is None:\n",
    "    print(\"Avertissement : Aucune colonne pour les noms d'attaques trouvée.\")\n",
    "    print(\"Le graphique utilisera des taux de succès moyens pour chaque attaque.\")\n",
    "    # Calculer les taux de succès manuellement pour chaque attaque\n",
    "    attack_types = ['TextFooler', 'DeepWordBug']\n",
    "    success_rates = []\n",
    "    for i, attack in enumerate(attack_types):\n",
    "        # Simuler une séparation si la colonne attack_name est absente\n",
    "        # Supposons que les attaques sont exécutées séquentiellement\n",
    "        subset_size = len(attack_results) // len(attack_types)\n",
    "        start_idx = i * subset_size\n",
    "        end_idx = (i + 1) * subset_size if i < len(attack_types) - 1 else len(attack_results)\n",
    "        attack_subset = attack_results.iloc[start_idx:end_idx]\n",
    "        if not attack_subset.empty:\n",
    "            success_rate = (attack_subset['result_type'] == 'Successful').mean()\n",
    "            success_rates.append(success_rate)\n",
    "        else:\n",
    "            success_rates.append(0.0)\n",
    "else:\n",
    "    print(f\"Colonne des noms d'attaques utilisée : {attack_name_column}\")\n",
    "    # Graphique : Taux de succès par type d'attaque\n",
    "    attack_types = ['TextFooler', 'DeepWordBug']\n",
    "    success_rates = []\n",
    "    for attack in attack_types:\n",
    "        attack_subset = attack_results[attack_results[attack_name_column].str.contains(attack, case=False, na=False)]\n",
    "        if not attack_subset.empty:\n",
    "            success_rate = (attack_subset['result_type'] == 'Successful').mean()\n",
    "            success_rates.append(success_rate)\n",
    "        else:\n",
    "            success_rates.append(0.0)\n",
    "\n",
    "plt.figure(figsize=(8, 5))\n",
    "plt.bar(attack_types, success_rates, color=['#1f77b4', '#ff7f0e'])\n",
    "plt.xlabel('Type d\\'attaque')\n",
    "plt.ylabel('Taux de succès')\n",
    "plt.title('Taux de succès des attaques adversariales')\n",
    "plt.ylim(0, 1)\n",
    "plt.show()"
   ]
  },
  {
   "cell_type": "code",
   "execution_count": 35,
   "metadata": {},
   "outputs": [
    {
     "data": {
      "image/png": "[encoded data removed]",
      "text/plain": [
       "<Figure size 1200x500 with 4 Axes>"
      ]
     },
     "metadata": {},
     "output_type": "display_data"
    }
   ],
   "source": [
    "# Matrice de confusion\n",
    "cm_before = confusion_matrix(y_true, y_pred_before)\n",
    "cm_after = confusion_matrix(y_true, y_pred_after)\n",
    "\n",
    "fig, axes = plt.subplots(1, 2, figsize=(12, 5))\n",
    "sns.heatmap(cm_before, annot=True, fmt='d', ax=axes[0], cmap='Blues')\n",
    "axes[0].set_title('Matrice de confusion avant attaque')\n",
    "axes[0].set_xlabel('Prédit')\n",
    "axes[0].set_ylabel('Vrai')\n",
    "sns.heatmap(cm_after, annot=True, fmt='d', ax=axes[1], cmap='Blues')\n",
    "axes[1].set_title('Matrice de confusion après attaque')\n",
    "axes[1].set_xlabel('Prédit')\n",
    "axes[1].set_ylabel('Vrai')\n",
    "plt.tight_layout()\n",
    "plt.show()"
   ]
  },
  {
   "cell_type": "markdown",
   "metadata": {},
   "source": [
    "## 7. Sauvegarde des métriques"
   ]
  },
  {
   "cell_type": "code",
   "execution_count": 36,
   "metadata": {},
   "outputs": [
    {
     "name": "stdout",
     "output_type": "stream",
     "text": [
      "Métriques sauvegardées dans 'outputs/attack_metrics.csv'\n"
     ]
    }
   ],
   "source": [
    "metrics = {\n",
    "    'success_rate': success_rate,\n",
    "    'accuracy_before': accuracy_before,\n",
    "    'accuracy_after': accuracy_after,\n",
    "    'f1_before': f1_before,\n",
    "    'f1_after': f1_after\n",
    "}\n",
    "pd.DataFrame([metrics]).to_csv(\"outputs/attack_metrics.csv\", index=False)\n",
    "print(\"Métriques sauvegardées dans 'outputs/attack_metrics.csv'\")"
   ]
  },
  {
   "cell_type": "code",
   "execution_count": null,
   "metadata": {},
   "outputs": [],
   "source": []
  }
 ],
 "metadata": {
  "kernelspec": {
   "display_name": "Python 3",
   "language": "python",
   "name": "python3"
  },
  "language_info": {
   "codemirror_mode": {
    "name": "ipython",
    "version": 3
   },
   "file_extension": ".py",
   "mimetype": "text/x-python",
   "name": "python",
   "nbconvert_exporter": "python",
   "pygments_lexer": "ipython3",
   "version": "3.10.0"
  }
 },
 "nbformat": 4,
 "nbformat_minor": 2
}
